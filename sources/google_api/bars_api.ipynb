{
 "cells": [
  {
   "cell_type": "markdown",
   "metadata": {},
   "source": [
    "## METODOLOGIA DE OBTENÇÃO DE INFORMAÇÕES RELEVANTES DOS BARES\n",
    "\n",
    "Neste código estruturamos uma metodologia de obtenção das informações dos bares existentes no banco de dados MongoDB"
   ]
  },
  {
   "cell_type": "markdown",
   "metadata": {},
   "source": [
    "*Obtenção dos dados do MongoDB*"
   ]
  },
  {
   "cell_type": "code",
   "execution_count": 1,
   "metadata": {},
   "outputs": [],
   "source": [
    "import pandas as pd\n",
    "import polars as pl\n",
    "import googlemaps\n",
    "import pprint\n",
    "from pymongo import MongoClient\n",
    "import json\n",
    "import os"
   ]
  },
  {
   "cell_type": "code",
   "execution_count": 2,
   "metadata": {},
   "outputs": [],
   "source": [
    "#Mudança de diretório para obter credenciais de configs\n",
    "\n",
    "current_dir = os.getcwd()\n",
    "parent_dir = os.path.dirname(current_dir)\n",
    "granny_dir = os.path.dirname(parent_dir)\n",
    "\n",
    "os.chdir(granny_dir)"
   ]
  },
  {
   "cell_type": "code",
   "execution_count": 3,
   "metadata": {},
   "outputs": [],
   "source": [
    "configs_dir = os.path.join(granny_dir, 'configs')\n",
    "mongo_config_file = os.path.join(configs_dir, 'mongo.json')\n",
    "\n",
    "with open(mongo_config_file, 'r') as f:\n",
    "    mongo_config = json.load(f)"
   ]
  },
  {
   "cell_type": "code",
   "execution_count": 32,
   "metadata": {},
   "outputs": [],
   "source": [
    "client = MongoClient(mongo_config['url'])\n",
    "\n",
    "db = client['apis']\n",
    "collection = db['google_api_v0']"
   ]
  },
  {
   "cell_type": "code",
   "execution_count": 5,
   "metadata": {},
   "outputs": [],
   "source": [
    "data = list(collection.find())\n"
   ]
  },
  {
   "cell_type": "code",
   "execution_count": 6,
   "metadata": {},
   "outputs": [],
   "source": [
    "# Aqui transforma-se a base do mongo em um dataframe polars e encerra-se a conexão com o mongo\n",
    "\n",
    "df = pl.DataFrame(data)"
   ]
  },
  {
   "cell_type": "code",
   "execution_count": 7,
   "metadata": {},
   "outputs": [
    {
     "data": {
      "text/html": [
       "<div><style>\n",
       ".dataframe > thead > tr,\n",
       ".dataframe > tbody > tr {\n",
       "  text-align: right;\n",
       "  white-space: pre-wrap;\n",
       "}\n",
       "</style>\n",
       "<small>shape: (5, 17)</small><table border=\"1\" class=\"dataframe\"><thead><tr><th>_id</th><th>business_status</th><th>formatted_address</th><th>geometry</th><th>icon</th><th>icon_background_color</th><th>icon_mask_base_uri</th><th>name</th><th>opening_hours</th><th>photos</th><th>place_id</th><th>plus_code</th><th>price_level</th><th>rating</th><th>reference</th><th>types</th><th>user_ratings_total</th></tr><tr><td>object</td><td>str</td><td>str</td><td>str</td><td>str</td><td>str</td><td>str</td><td>str</td><td>str</td><td>str</td><td>str</td><td>str</td><td>f64</td><td>f64</td><td>str</td><td>str</td><td>i64</td></tr></thead><tbody><tr><td>6713284dc7e0468b36f646cd</td><td>&quot;OPERATIONAL&quot;</td><td>&quot;R. Joaquim Távora, 961 - Vila …</td><td>&quot;{&#x27;location&#x27;: {&#x27;lat&#x27;: -23.58653…</td><td>&quot;https://maps.gstatic.com/mapfi…</td><td>&quot;#FF9E67&quot;</td><td>&quot;https://maps.gstatic.com/mapfi…</td><td>&quot;Let&#x27;s Beer&quot;</td><td>&quot;{&#x27;open_now&#x27;: True}&quot;</td><td>&quot;[{&#x27;height&#x27;: 3024, &#x27;html_attrib…</td><td>&quot;ChIJv4lhgIhZzpQRj3Pg2TNxAIo&quot;</td><td>&quot;{&#x27;compound_code&#x27;: &#x27;C975+98 Vil…</td><td>2.0</td><td>4.6</td><td>&quot;ChIJv4lhgIhZzpQRj3Pg2TNxAIo&quot;</td><td>&quot;[&#x27;bar&#x27;, &#x27;restaurant&#x27;, &#x27;food&#x27;, …</td><td>1310</td></tr><tr><td>6713284dc7e0468b36f646ce</td><td>&quot;OPERATIONAL&quot;</td><td>&quot;Rua Vergueiro, 2040 - Vila Mar…</td><td>&quot;{&#x27;location&#x27;: {&#x27;lat&#x27;: -23.58018…</td><td>&quot;https://maps.gstatic.com/mapfi…</td><td>&quot;#FF9E67&quot;</td><td>&quot;https://maps.gstatic.com/mapfi…</td><td>&quot;Barbirô&quot;</td><td>&quot;{&#x27;open_now&#x27;: True}&quot;</td><td>&quot;[{&#x27;height&#x27;: 2268, &#x27;html_attrib…</td><td>&quot;ChIJV_2SMoVZzpQRuy_oyUQWTZM&quot;</td><td>&quot;{&#x27;compound_code&#x27;: &#x27;C996+W4 Vil…</td><td>2.0</td><td>4.4</td><td>&quot;ChIJV_2SMoVZzpQRuy_oyUQWTZM&quot;</td><td>&quot;[&#x27;bar&#x27;, &#x27;restaurant&#x27;, &#x27;food&#x27;, …</td><td>3739</td></tr><tr><td>6713284dc7e0468b36f646cf</td><td>&quot;OPERATIONAL&quot;</td><td>&quot;Rua Monsenhor Manuel Vicente, …</td><td>&quot;{&#x27;location&#x27;: {&#x27;lat&#x27;: -23.59306…</td><td>&quot;https://maps.gstatic.com/mapfi…</td><td>&quot;#FF9E67&quot;</td><td>&quot;https://maps.gstatic.com/mapfi…</td><td>&quot;Esquina do Meninão - Cerveja, …</td><td>&quot;{&#x27;open_now&#x27;: True}&quot;</td><td>&quot;[{&#x27;height&#x27;: 3472, &#x27;html_attrib…</td><td>&quot;ChIJfzCfDYxbzpQRmyXN3eZlFMg&quot;</td><td>&quot;{&#x27;compound_code&#x27;: &#x27;C947+QV Vil…</td><td>2.0</td><td>4.9</td><td>&quot;ChIJfzCfDYxbzpQRmyXN3eZlFMg&quot;</td><td>&quot;[&#x27;bar&#x27;, &#x27;point_of_interest&#x27;, &#x27;…</td><td>358</td></tr><tr><td>6713284dc7e0468b36f646d0</td><td>&quot;OPERATIONAL&quot;</td><td>&quot;R. Joaquim Távora, 1139 - Vila…</td><td>&quot;{&#x27;location&#x27;: {&#x27;lat&#x27;: -23.58710…</td><td>&quot;https://maps.gstatic.com/mapfi…</td><td>&quot;#FF9E67&quot;</td><td>&quot;https://maps.gstatic.com/mapfi…</td><td>&quot;Paróquia Bar o Santto Chopp&quot;</td><td>&quot;{&#x27;open_now&#x27;: True}&quot;</td><td>&quot;[{&#x27;height&#x27;: 3456, &#x27;html_attrib…</td><td>&quot;ChIJSze494hZzpQRyq9WgTyZHTE&quot;</td><td>&quot;{&#x27;compound_code&#x27;: &#x27;C974+5M Vil…</td><td>2.0</td><td>4.2</td><td>&quot;ChIJSze494hZzpQRyq9WgTyZHTE&quot;</td><td>&quot;[&#x27;bar&#x27;, &#x27;point_of_interest&#x27;, &#x27;…</td><td>1924</td></tr><tr><td>6713284dc7e0468b36f646d1</td><td>&quot;OPERATIONAL&quot;</td><td>&quot;R. Joaquim Távora, 1322 - Vila…</td><td>&quot;{&#x27;location&#x27;: {&#x27;lat&#x27;: -23.58747…</td><td>&quot;https://maps.gstatic.com/mapfi…</td><td>&quot;#FF9E67&quot;</td><td>&quot;https://maps.gstatic.com/mapfi…</td><td>&quot;Bar da Vila&quot;</td><td>&quot;{&#x27;open_now&#x27;: True}&quot;</td><td>&quot;[{&#x27;height&#x27;: 864, &#x27;html_attribu…</td><td>&quot;ChIJQ4v5ColZzpQRusjGFsa_IOU&quot;</td><td>&quot;{&#x27;compound_code&#x27;: &#x27;C963+XW Vil…</td><td>2.0</td><td>4.2</td><td>&quot;ChIJQ4v5ColZzpQRusjGFsa_IOU&quot;</td><td>&quot;[&#x27;bar&#x27;, &#x27;point_of_interest&#x27;, &#x27;…</td><td>590</td></tr></tbody></table></div>"
      ],
      "text/plain": [
       "shape: (5, 17)\n",
       "┌────────────┬────────────┬───────────┬───────────┬───┬────────┬───────────┬───────────┬───────────┐\n",
       "│ _id        ┆ business_s ┆ formatted ┆ geometry  ┆ … ┆ rating ┆ reference ┆ types     ┆ user_rati │\n",
       "│ ---        ┆ tatus      ┆ _address  ┆ ---       ┆   ┆ ---    ┆ ---       ┆ ---       ┆ ngs_total │\n",
       "│ object     ┆ ---        ┆ ---       ┆ str       ┆   ┆ f64    ┆ str       ┆ str       ┆ ---       │\n",
       "│            ┆ str        ┆ str       ┆           ┆   ┆        ┆           ┆           ┆ i64       │\n",
       "╞════════════╪════════════╪═══════════╪═══════════╪═══╪════════╪═══════════╪═══════════╪═══════════╡\n",
       "│ 6713284dc7 ┆ OPERATIONA ┆ R.        ┆ {'locatio ┆ … ┆ 4.6    ┆ ChIJv4lhg ┆ ['bar',   ┆ 1310      │\n",
       "│ e0468b36f6 ┆ L          ┆ Joaquim   ┆ n':       ┆   ┆        ┆ IhZzpQRj3 ┆ 'restaura ┆           │\n",
       "│ 46cd       ┆            ┆ Távora,   ┆ {'lat':   ┆   ┆        ┆ Pg2TNxAIo ┆ nt',      ┆           │\n",
       "│            ┆            ┆ 961 -     ┆ -23.58653 ┆   ┆        ┆           ┆ 'food', … ┆           │\n",
       "│            ┆            ┆ Vila …    ┆ …         ┆   ┆        ┆           ┆           ┆           │\n",
       "│ 6713284dc7 ┆ OPERATIONA ┆ Rua Vergu ┆ {'locatio ┆ … ┆ 4.4    ┆ ChIJV_2SM ┆ ['bar',   ┆ 3739      │\n",
       "│ e0468b36f6 ┆ L          ┆ eiro,     ┆ n':       ┆   ┆        ┆ oVZzpQRuy ┆ 'restaura ┆           │\n",
       "│ 46ce       ┆            ┆ 2040 -    ┆ {'lat':   ┆   ┆        ┆ _oyUQWTZM ┆ nt',      ┆           │\n",
       "│            ┆            ┆ Vila Mar… ┆ -23.58018 ┆   ┆        ┆           ┆ 'food', … ┆           │\n",
       "│            ┆            ┆           ┆ …         ┆   ┆        ┆           ┆           ┆           │\n",
       "│ 6713284dc7 ┆ OPERATIONA ┆ Rua       ┆ {'locatio ┆ … ┆ 4.9    ┆ ChIJfzCfD ┆ ['bar',   ┆ 358       │\n",
       "│ e0468b36f6 ┆ L          ┆ Monsenhor ┆ n':       ┆   ┆        ┆ YxbzpQRmy ┆ 'point_of ┆           │\n",
       "│ 46cf       ┆            ┆ Manuel    ┆ {'lat':   ┆   ┆        ┆ XN3eZlFMg ┆ _interest ┆           │\n",
       "│            ┆            ┆ Vicente,  ┆ -23.59306 ┆   ┆        ┆           ┆ ', '…     ┆           │\n",
       "│            ┆            ┆ …         ┆ …         ┆   ┆        ┆           ┆           ┆           │\n",
       "│ 6713284dc7 ┆ OPERATIONA ┆ R.        ┆ {'locatio ┆ … ┆ 4.2    ┆ ChIJSze49 ┆ ['bar',   ┆ 1924      │\n",
       "│ e0468b36f6 ┆ L          ┆ Joaquim   ┆ n':       ┆   ┆        ┆ 4hZzpQRyq ┆ 'point_of ┆           │\n",
       "│ 46d0       ┆            ┆ Távora,   ┆ {'lat':   ┆   ┆        ┆ 9WgTyZHTE ┆ _interest ┆           │\n",
       "│            ┆            ┆ 1139 -    ┆ -23.58710 ┆   ┆        ┆           ┆ ', '…     ┆           │\n",
       "│            ┆            ┆ Vila…     ┆ …         ┆   ┆        ┆           ┆           ┆           │\n",
       "│ 6713284dc7 ┆ OPERATIONA ┆ R.        ┆ {'locatio ┆ … ┆ 4.2    ┆ ChIJQ4v5C ┆ ['bar',   ┆ 590       │\n",
       "│ e0468b36f6 ┆ L          ┆ Joaquim   ┆ n':       ┆   ┆        ┆ olZzpQRus ┆ 'point_of ┆           │\n",
       "│ 46d1       ┆            ┆ Távora,   ┆ {'lat':   ┆   ┆        ┆ jGFsa_IOU ┆ _interest ┆           │\n",
       "│            ┆            ┆ 1322 -    ┆ -23.58747 ┆   ┆        ┆           ┆ ', '…     ┆           │\n",
       "│            ┆            ┆ Vila…     ┆ …         ┆   ┆        ┆           ┆           ┆           │\n",
       "└────────────┴────────────┴───────────┴───────────┴───┴────────┴───────────┴───────────┴───────────┘"
      ]
     },
     "execution_count": 7,
     "metadata": {},
     "output_type": "execute_result"
    }
   ],
   "source": [
    "df.head()"
   ]
  },
  {
   "cell_type": "markdown",
   "metadata": {},
   "source": [
    "**APIs Google Places**\n",
    "\n",
    "Agora iremos utilizar as informações já existentes no Mongo para extrair novas informações sobre os estabelecimentos"
   ]
  },
  {
   "cell_type": "code",
   "execution_count": 8,
   "metadata": {},
   "outputs": [],
   "source": [
    "#obtendo google_api\n",
    "\n",
    "configs_dir = os.path.join(granny_dir, 'configs')\n",
    "google_key = os.path.join(configs_dir, 'google_key.json')\n",
    "\n",
    "with open(google_key, 'r') as f:\n",
    "    google_key = json.load(f)\n"
   ]
  },
  {
   "cell_type": "code",
   "execution_count": 9,
   "metadata": {},
   "outputs": [],
   "source": [
    "import requests\n",
    "\n",
    "API_KEY = google_key['key']\n",
    "\n",
    "place_id = df['place_id'][0]\n",
    "\n",
    "url = f\"https://maps.googleapis.com/maps/api/place/details/json?place_id={place_id}&key={API_KEY}\"\n",
    "\n",
    "response = requests.get(url)"
   ]
  },
  {
   "cell_type": "code",
   "execution_count": 30,
   "metadata": {},
   "outputs": [],
   "source": [
    "# Criação de uma classe para realizar tratativas do dado obtido da API\n",
    "\n",
    "class ApiTreatments:\n",
    "    def __init__(self, request=None, reviews=None):\n",
    "        self.request = request\n",
    "        self.reviews = reviews\n",
    "\n",
    "    def adjust_and_clean_opening_hours(self):\n",
    "        \"\"\"Adjust the opening and closing hours and clean the weekday text.\"\"\"\n",
    "        # Adjust the opening and closing hours\n",
    "        for period in self.request['periods']:\n",
    "            # Adjust the 'open' time\n",
    "            period['open']['time'] = period['open']['time'][:2] + ':' + period['open']['time'][2:]\n",
    "            # Adjust the 'close' time\n",
    "            period['close']['time'] = period['close']['time'][:2] + ':' + period['close']['time'][2:]\n",
    "\n",
    "        # Clean the weekday_text\n",
    "        cleaned_text = []\n",
    "        for text in self.request['weekday_text']:\n",
    "            # Replace the special Unicode characters with a plain dash and space\n",
    "            text = text.replace('\\u2009', '').replace('\\u202f', '').replace('–', ' - ')\n",
    "            cleaned_text.append(text)\n",
    "\n",
    "        # Update the request's weekday_text with the cleaned version\n",
    "        self.request['weekday_text'] = cleaned_text\n",
    "\n",
    "        return self.request\n",
    "\n",
    "    def extract_review_fields(self):\n",
    "        \"\"\"Extract specific fields from reviews.\"\"\"\n",
    "        extracted_reviews = [\n",
    "            {\n",
    "                'rating': review['rating'],\n",
    "                'text': review['text'],\n",
    "                'relative_time_description': review['relative_time_description'],\n",
    "                'original_language': review['original_language']\n",
    "            }\n",
    "            for review in self.reviews\n",
    "        ]\n",
    "\n",
    "        return extracted_reviews"
   ]
  },
  {
   "cell_type": "markdown",
   "metadata": {},
   "source": [
    "Incluíndo os novos dados no MongoDB"
   ]
  },
  {
   "cell_type": "code",
   "execution_count": 33,
   "metadata": {},
   "outputs": [
    {
     "name": "stderr",
     "output_type": "stream",
     "text": [
      "100%|██████████| 247/247 [20:51<00:00,  5.06s/it]\n"
     ]
    },
    {
     "name": "stdout",
     "output_type": "stream",
     "text": [
      "Working with Let's Beer, ChIJv4lhgIhZzpQRj3Pg2TNxAIo\n",
      "Let's Beer inserted into MongoDB\n"
     ]
    },
    {
     "name": "stderr",
     "output_type": "stream",
     "text": []
    },
    {
     "name": "stdout",
     "output_type": "stream",
     "text": [
      "Working with Barbirô, ChIJV_2SMoVZzpQRuy_oyUQWTZM\n",
      "Barbirô inserted into MongoDB\n"
     ]
    },
    {
     "name": "stderr",
     "output_type": "stream",
     "text": []
    },
    {
     "name": "stdout",
     "output_type": "stream",
     "text": [
      "Working with Esquina do Meninão - Cerveja, Drinks e Petiscos, ChIJfzCfDYxbzpQRmyXN3eZlFMg\n",
      "'original_language'\n",
      "Working with Paróquia Bar o Santto Chopp, ChIJSze494hZzpQRyq9WgTyZHTE\n",
      "Paróquia Bar o Santto Chopp inserted into MongoDB\n"
     ]
    },
    {
     "name": "stderr",
     "output_type": "stream",
     "text": []
    },
    {
     "name": "stdout",
     "output_type": "stream",
     "text": [
      "Working with Bar da Vila, ChIJQ4v5ColZzpQRusjGFsa_IOU\n",
      "Bar da Vila inserted into MongoDB\n"
     ]
    },
    {
     "name": "stderr",
     "output_type": "stream",
     "text": []
    },
    {
     "name": "stdout",
     "output_type": "stream",
     "text": [
      "Working with Pirajá Vila Mariana, ChIJl3h0YABbzpQRN1W4fd_aT7U\n",
      "Pirajá Vila Mariana inserted into MongoDB\n"
     ]
    },
    {
     "name": "stderr",
     "output_type": "stream",
     "text": []
    },
    {
     "name": "stdout",
     "output_type": "stream",
     "text": [
      "Working with Bar Genuíno, ChIJARbqB4lZzpQRjwpBmlG2ZGY\n",
      "Bar Genuíno inserted into MongoDB\n"
     ]
    },
    {
     "name": "stderr",
     "output_type": "stream",
     "text": []
    },
    {
     "name": "stdout",
     "output_type": "stream",
     "text": [
      "Working with Barxaréu, ChIJJdr_V4hZzpQRuUN4_aJrrKI\n",
      "Barxaréu inserted into MongoDB\n"
     ]
    },
    {
     "name": "stderr",
     "output_type": "stream",
     "text": []
    },
    {
     "name": "stdout",
     "output_type": "stream",
     "text": [
      "Working with Fortunato Bar, ChIJMVHUdYlZzpQR6dJlIzrr3rU\n",
      "Fortunato Bar inserted into MongoDB\n"
     ]
    },
    {
     "name": "stderr",
     "output_type": "stream",
     "text": []
    },
    {
     "name": "stdout",
     "output_type": "stream",
     "text": [
      "Working with Joca Vila Mariana, ChIJ9RDYcIdZzpQRLStdHkcTUrs\n",
      "Joca Vila Mariana inserted into MongoDB\n"
     ]
    },
    {
     "name": "stderr",
     "output_type": "stream",
     "text": []
    },
    {
     "name": "stdout",
     "output_type": "stream",
     "text": [
      "Working with VKS Beer House, ChIJq1ld1ChZzpQRiUaOtkTD-Hk\n",
      "VKS Beer House inserted into MongoDB\n"
     ]
    },
    {
     "name": "stderr",
     "output_type": "stream",
     "text": []
    },
    {
     "name": "stdout",
     "output_type": "stream",
     "text": [
      "Working with Taquarica Bar, ChIJ9QENKZ1ZzpQRoGxK04Ygx_w\n",
      "Taquarica Bar inserted into MongoDB\n"
     ]
    },
    {
     "name": "stderr",
     "output_type": "stream",
     "text": []
    },
    {
     "name": "stdout",
     "output_type": "stream",
     "text": [
      "Working with Bar Veloso, ChIJ9e0c7IBZzpQRt0BdDRjIZ_U\n",
      "Bar Veloso inserted into MongoDB\n"
     ]
    },
    {
     "name": "stderr",
     "output_type": "stream",
     "text": []
    },
    {
     "name": "stdout",
     "output_type": "stream",
     "text": [
      "Working with Matriz Bar & Choperia, ChIJT28VCHlZzpQR2fLM6mf1sTg\n",
      "Matriz Bar & Choperia inserted into MongoDB\n"
     ]
    },
    {
     "name": "stderr",
     "output_type": "stream",
     "text": []
    },
    {
     "name": "stdout",
     "output_type": "stream",
     "text": [
      "Working with Boteco da Villa, ChIJoeE9fQhZzpQR28eKhynfrTg\n",
      "Boteco da Villa inserted into MongoDB\n"
     ]
    },
    {
     "name": "stderr",
     "output_type": "stream",
     "text": []
    },
    {
     "name": "stdout",
     "output_type": "stream",
     "text": [
      "Working with Comandante Bar, ChIJZxgRngtZzpQR1WvwIP_rthg\n",
      "Comandante Bar inserted into MongoDB\n"
     ]
    },
    {
     "name": "stderr",
     "output_type": "stream",
     "text": []
    },
    {
     "name": "stdout",
     "output_type": "stream",
     "text": [
      "Working with Bar Pequena Glória, ChIJi250caBZzpQRFjiML2vaViw\n",
      "Bar Pequena Glória inserted into MongoDB\n"
     ]
    },
    {
     "name": "stderr",
     "output_type": "stream",
     "text": []
    },
    {
     "name": "stdout",
     "output_type": "stream",
     "text": [
      "Working with Buteco da Villa, ChIJPxG1A35ZzpQRing07VLbzys\n",
      "Buteco da Villa inserted into MongoDB\n"
     ]
    },
    {
     "name": "stderr",
     "output_type": "stream",
     "text": []
    },
    {
     "name": "stdout",
     "output_type": "stream",
     "text": [
      "Working with Gorila Beer House Vila Mariana, ChIJ2Y09kYtZzpQRT4R1NRfIy3g\n",
      "Gorila Beer House Vila Mariana inserted into MongoDB\n"
     ]
    },
    {
     "name": "stderr",
     "output_type": "stream",
     "text": []
    },
    {
     "name": "stdout",
     "output_type": "stream",
     "text": [
      "Working with Bar Bijin, ChIJdSNPj4NZzpQRld1gEa0UhHE\n",
      "Bar Bijin inserted into MongoDB\n"
     ]
    },
    {
     "name": "stderr",
     "output_type": "stream",
     "text": []
    },
    {
     "name": "stdout",
     "output_type": "stream",
     "text": [
      "Working with Ana Giga Bar, ChIJow2Tl4NZzpQROSkF_gL3wgw\n",
      "'original_language'\n",
      "Working with Caetano Bar e Espeto, ChIJ77ionn9ZzpQR4_46w6ZRS6g\n",
      "Caetano Bar e Espeto inserted into MongoDB\n"
     ]
    },
    {
     "name": "stderr",
     "output_type": "stream",
     "text": []
    },
    {
     "name": "stdout",
     "output_type": "stream",
     "text": [
      "Working with Bar do Ceará, ChIJBcvqGYRZzpQRNEe2oGF5gZk\n",
      "Bar do Ceará inserted into MongoDB\n"
     ]
    },
    {
     "name": "stderr",
     "output_type": "stream",
     "text": []
    },
    {
     "name": "stdout",
     "output_type": "stream",
     "text": [
      "Working with Diproposito Lan house, ChIJXeTS531ZzpQR9ipH4qJar1I\n",
      "Diproposito Lan house inserted into MongoDB\n"
     ]
    },
    {
     "name": "stderr",
     "output_type": "stream",
     "text": []
    },
    {
     "name": "stdout",
     "output_type": "stream",
     "text": [
      "Working with Aclimação Bar, ChIJj4-Wo3tZzpQRVWYPYWgF15g\n",
      "Aclimação Bar inserted into MongoDB\n"
     ]
    },
    {
     "name": "stderr",
     "output_type": "stream",
     "text": []
    },
    {
     "name": "stdout",
     "output_type": "stream",
     "text": [
      "Working with Bar Da Sofrencia, ChIJmzS7i4tZzpQRqAWz5Gk3Yj4\n",
      "Bar Da Sofrencia inserted into MongoDB\n"
     ]
    },
    {
     "name": "stderr",
     "output_type": "stream",
     "text": []
    },
    {
     "name": "stdout",
     "output_type": "stream",
     "text": [
      "Working with Bar e Lanches O Batidão, ChIJVxhyuytazpQRdjWG2kycbSM\n",
      "Bar e Lanches O Batidão inserted into MongoDB\n"
     ]
    },
    {
     "name": "stderr",
     "output_type": "stream",
     "text": []
    },
    {
     "name": "stdout",
     "output_type": "stream",
     "text": [
      "Working with Jota 1078, ChIJm2Go8e1ZzpQRs0q5o6t3MDU\n",
      "Jota 1078 inserted into MongoDB\n"
     ]
    },
    {
     "name": "stderr",
     "output_type": "stream",
     "text": []
    },
    {
     "name": "stdout",
     "output_type": "stream",
     "text": [
      "Working with Bar e Restaurante Gil Gril, ChIJc9WkF4ZZzpQRBMYsxmBgVko\n",
      "Bar e Restaurante Gil Gril inserted into MongoDB\n"
     ]
    },
    {
     "name": "stderr",
     "output_type": "stream",
     "text": []
    },
    {
     "name": "stdout",
     "output_type": "stream",
     "text": [
      "Working with Bar Casa na Praia, ChIJE6D6TIxZzpQRGN2XWV0m1ik\n",
      "Bar Casa na Praia inserted into MongoDB\n"
     ]
    },
    {
     "name": "stderr",
     "output_type": "stream",
     "text": []
    },
    {
     "name": "stdout",
     "output_type": "stream",
     "text": [
      "Working with Braz Cubas Espetaria, Bar e Restaurante, ChIJC547XXhZzpQRQp7-FW6HgOs\n",
      "Braz Cubas Espetaria, Bar e Restaurante inserted into MongoDB\n"
     ]
    },
    {
     "name": "stderr",
     "output_type": "stream",
     "text": []
    },
    {
     "name": "stdout",
     "output_type": "stream",
     "text": [
      "Working with Paralelo 12:27 - Bar e Restaurante, ChIJox7gB4lZzpQRQs4LrQs23rI\n",
      "Paralelo 12:27 - Bar e Restaurante inserted into MongoDB\n"
     ]
    },
    {
     "name": "stderr",
     "output_type": "stream",
     "text": []
    },
    {
     "name": "stdout",
     "output_type": "stream",
     "text": [
      "Working with Cabeça's Bar, ChIJi8vLOSpbzpQRZu7F_alLXgo\n",
      "Cabeça's Bar inserted into MongoDB\n"
     ]
    },
    {
     "name": "stderr",
     "output_type": "stream",
     "text": []
    },
    {
     "name": "stdout",
     "output_type": "stream",
     "text": [
      "Working with Box St. Burger & Bar, ChIJYzZsfYhZzpQRRtI0aSAGhZA\n",
      "Box St. Burger & Bar inserted into MongoDB\n"
     ]
    },
    {
     "name": "stderr",
     "output_type": "stream",
     "text": []
    },
    {
     "name": "stdout",
     "output_type": "stream",
     "text": [
      "Working with Pier Bar e Restaurante, ChIJYQdwoIlZzpQRvGnGyD4dacA\n",
      "Pier Bar e Restaurante inserted into MongoDB\n"
     ]
    },
    {
     "name": "stderr",
     "output_type": "stream",
     "text": []
    },
    {
     "name": "stdout",
     "output_type": "stream",
     "text": [
      "Working with TerapiaBar, ChIJ16GZx8dZzpQRGeKe4oBqkMI\n",
      "TerapiaBar inserted into MongoDB\n"
     ]
    },
    {
     "name": "stderr",
     "output_type": "stream",
     "text": []
    },
    {
     "name": "stdout",
     "output_type": "stream",
     "text": [
      "Working with Bar Lanches Frei Agostinho, ChIJlZLdE5BZzpQRRJTpJm51XTk\n",
      "'original_language'\n",
      "Working with Sacra Rolha Wine Bar, ChIJty7KW4hZzpQR9k8dVaDP21I\n",
      "Sacra Rolha Wine Bar inserted into MongoDB\n"
     ]
    },
    {
     "name": "stderr",
     "output_type": "stream",
     "text": []
    },
    {
     "name": "stdout",
     "output_type": "stream",
     "text": [
      "Working with The Garden - Bar, Restaurante, Espetinhos, Comida Brasileira e Comida Oriental, ChIJbdcrJHlZzpQR5p0BVS9Ozis\n",
      "The Garden - Bar, Restaurante, Espetinhos, Comida Brasileira e Comida Oriental inserted into MongoDB\n"
     ]
    },
    {
     "name": "stderr",
     "output_type": "stream",
     "text": []
    },
    {
     "name": "stdout",
     "output_type": "stream",
     "text": [
      "Working with Bar do Espetinho, ChIJqTaebHpZzpQRANwrrUjfQfM\n",
      "Bar do Espetinho inserted into MongoDB\n"
     ]
    },
    {
     "name": "stderr",
     "output_type": "stream",
     "text": []
    },
    {
     "name": "stdout",
     "output_type": "stream",
     "text": [
      "Working with Bar e Restaurante Dois Irmãos, ChIJX76VUvpbzpQRxk09fKFMdhk\n",
      "Bar e Restaurante Dois Irmãos inserted into MongoDB\n"
     ]
    },
    {
     "name": "stderr",
     "output_type": "stream",
     "text": []
    },
    {
     "name": "stdout",
     "output_type": "stream",
     "text": [
      "Working with Bar do Primo, ChIJUWXchwtZzpQRU9clix1354U\n",
      "Bar do Primo inserted into MongoDB\n"
     ]
    },
    {
     "name": "stderr",
     "output_type": "stream",
     "text": []
    },
    {
     "name": "stdout",
     "output_type": "stream",
     "text": [
      "Working with Bar Bilhar Unisex, ChIJ54kWN4JZzpQRP0uXamxKaRw\n",
      "'current_opening_hours'\n",
      "Working with Karaoke Bar 5th Avenue, ChIJz5-Y1pBZzpQR6G2ZZswyXm0\n",
      "Karaoke Bar 5th Avenue inserted into MongoDB\n"
     ]
    },
    {
     "name": "stderr",
     "output_type": "stream",
     "text": []
    },
    {
     "name": "stdout",
     "output_type": "stream",
     "text": [
      "Working with Empório São Jorge, ChIJO2-oMZdZzpQRivh0jhYXiNE\n",
      "Empório São Jorge inserted into MongoDB\n"
     ]
    },
    {
     "name": "stderr",
     "output_type": "stream",
     "text": []
    },
    {
     "name": "stdout",
     "output_type": "stream",
     "text": [
      "Working with Aboo Bar, ChIJZbo3iyBazpQRpQ_61RCsmiY\n",
      "Aboo Bar inserted into MongoDB\n"
     ]
    },
    {
     "name": "stderr",
     "output_type": "stream",
     "text": []
    },
    {
     "name": "stdout",
     "output_type": "stream",
     "text": [
      "Working with RG Bar Club, ChIJb4Q_FltZzpQRv1Q6dfi5S6w\n",
      "RG Bar Club inserted into MongoDB\n"
     ]
    },
    {
     "name": "stderr",
     "output_type": "stream",
     "text": []
    },
    {
     "name": "stdout",
     "output_type": "stream",
     "text": [
      "Working with BELA VISTA BAR, RESTAURANTE E LANCHONETE, ChIJA-Qs_tpbzpQRw35dc6PSnjI\n",
      "BELA VISTA BAR, RESTAURANTE E LANCHONETE inserted into MongoDB\n"
     ]
    },
    {
     "name": "stderr",
     "output_type": "stream",
     "text": []
    },
    {
     "name": "stdout",
     "output_type": "stream",
     "text": [
      "Working with Pojang Wooza, ChIJgbKpltFZzpQR5WTCRLwJjgU\n",
      "Pojang Wooza inserted into MongoDB\n"
     ]
    },
    {
     "name": "stderr",
     "output_type": "stream",
     "text": []
    },
    {
     "name": "stdout",
     "output_type": "stream",
     "text": [
      "Working with Bar e Lanches da Amizade, ChIJcwaYCSpazpQRASVF4hgcaWM\n",
      "Bar e Lanches da Amizade inserted into MongoDB\n"
     ]
    },
    {
     "name": "stderr",
     "output_type": "stream",
     "text": []
    },
    {
     "name": "stdout",
     "output_type": "stream",
     "text": [
      "Working with Bar da Maria, ChIJb96QEYFZzpQRJQuUgduPtok\n",
      "'current_opening_hours'\n",
      "Working with Bar Das Tias, ChIJ__-_LIZZzpQRlD_ccNr01KY\n",
      "Bar Das Tias inserted into MongoDB\n"
     ]
    },
    {
     "name": "stderr",
     "output_type": "stream",
     "text": []
    },
    {
     "name": "stdout",
     "output_type": "stream",
     "text": [
      "Working with Assembléia Bar, ChIJDRQh2OxZzpQRcRra35WzBgQ\n",
      "Assembléia Bar inserted into MongoDB\n"
     ]
    },
    {
     "name": "stderr",
     "output_type": "stream",
     "text": []
    },
    {
     "name": "stdout",
     "output_type": "stream",
     "text": [
      "Working with Mascarino Pizza-Bar, ChIJTVkBf9NbzpQRUI0Ris1aiFo\n",
      "Mascarino Pizza-Bar inserted into MongoDB\n"
     ]
    },
    {
     "name": "stderr",
     "output_type": "stream",
     "text": []
    },
    {
     "name": "stdout",
     "output_type": "stream",
     "text": [
      "Working with FILÉ Restaurante & Bar, ChIJKaceantZzpQRlWbW-b4NVVA\n",
      "FILÉ Restaurante & Bar inserted into MongoDB\n"
     ]
    },
    {
     "name": "stderr",
     "output_type": "stream",
     "text": []
    },
    {
     "name": "stdout",
     "output_type": "stream",
     "text": [
      "Working with Bello Recanto - Bar e Restaurante, ChIJdyBdGsVZzpQRKvsapZagzWo\n",
      "Bello Recanto - Bar e Restaurante inserted into MongoDB\n"
     ]
    },
    {
     "name": "stderr",
     "output_type": "stream",
     "text": []
    },
    {
     "name": "stdout",
     "output_type": "stream",
     "text": [
      "Working with Desti Lado Bar, ChIJKzLu1qlbzpQREmetNzxTY_s\n",
      "'reviews'\n",
      "Working with Olaria Bar Grill Apeninos, ChIJSfiCgplZzpQRtiuYwQKpfEc\n",
      "Olaria Bar Grill Apeninos inserted into MongoDB\n"
     ]
    },
    {
     "name": "stderr",
     "output_type": "stream",
     "text": []
    },
    {
     "name": "stdout",
     "output_type": "stream",
     "text": [
      "Working with The Punch Bar, ChIJn5f8BNNZzpQRE5azUBgZ8t4\n",
      "The Punch Bar inserted into MongoDB\n"
     ]
    },
    {
     "name": "stderr",
     "output_type": "stream",
     "text": []
    },
    {
     "name": "stdout",
     "output_type": "stream",
     "text": [
      "Working with Bravata Bar, ChIJJ5n20DNbzpQR43mQG8vCmeA\n",
      "Bravata Bar inserted into MongoDB\n"
     ]
    },
    {
     "name": "stderr",
     "output_type": "stream",
     "text": []
    },
    {
     "name": "stdout",
     "output_type": "stream",
     "text": [
      "Working with Bar Providência, ChIJQ2I_r41ZzpQRu2qiTmeMMi8\n",
      "Bar Providência inserted into MongoDB\n"
     ]
    },
    {
     "name": "stderr",
     "output_type": "stream",
     "text": []
    },
    {
     "name": "stdout",
     "output_type": "stream",
     "text": [
      "Working with Bar do Marcão, ChIJ4-CtXIRZzpQRvHnRv7pcoog\n",
      "Bar do Marcão inserted into MongoDB\n"
     ]
    },
    {
     "name": "stderr",
     "output_type": "stream",
     "text": []
    },
    {
     "name": "stdout",
     "output_type": "stream",
     "text": [
      "Working with Bar Vermelho, ChIJh87zSShazpQRFQKIWhv0omA\n",
      "Bar Vermelho inserted into MongoDB\n"
     ]
    },
    {
     "name": "stderr",
     "output_type": "stream",
     "text": []
    },
    {
     "name": "stdout",
     "output_type": "stream",
     "text": [
      "Working with Três Américas Bar e Restaurante, ChIJOzhSIRNbzpQR4kENGjrjEWk\n",
      "Três Américas Bar e Restaurante inserted into MongoDB\n"
     ]
    },
    {
     "name": "stderr",
     "output_type": "stream",
     "text": []
    },
    {
     "name": "stdout",
     "output_type": "stream",
     "text": [
      "Working with Bar santa cruz, ChIJo_t71h1bzpQRcMY1W42wi6I\n",
      "'current_opening_hours'\n",
      "Working with Praça de Minas Vila Clementino, ChIJZaCkOJZZzpQRepSqWyrvxOI\n",
      "Praça de Minas Vila Clementino inserted into MongoDB\n"
     ]
    },
    {
     "name": "stderr",
     "output_type": "stream",
     "text": []
    },
    {
     "name": "stdout",
     "output_type": "stream",
     "text": [
      "Working with Bar e Lanches Alf, ChIJIeft-zFazpQRY6E_n_9OIPo\n",
      "'original_language'\n",
      "Working with Bar & Restaurante Estação Santa Cruz, ChIJy2afmTFazpQRFCZe6CisYbw\n",
      "Bar & Restaurante Estação Santa Cruz inserted into MongoDB\n"
     ]
    },
    {
     "name": "stderr",
     "output_type": "stream",
     "text": []
    },
    {
     "name": "stdout",
     "output_type": "stream",
     "text": [
      "Working with Executive Bar, ChIJ9UISqJJZzpQRgucTmfH1Vn8\n",
      "'current_opening_hours'\n"
     ]
    },
    {
     "name": "stderr",
     "output_type": "stream",
     "text": []
    },
    {
     "name": "stdout",
     "output_type": "stream",
     "text": [
      "Working with Bar e Restaurante Do Ceará, ChIJR50vP4FZzpQRiugl7GRKDe8\n",
      "'current_opening_hours'\n"
     ]
    },
    {
     "name": "stderr",
     "output_type": "stream",
     "text": []
    },
    {
     "name": "stdout",
     "output_type": "stream",
     "text": [
      "Working with Bar do Morato, ChIJQZvCsNVbzpQRFjx4UBJIOVY\n",
      "'current_opening_hours'\n"
     ]
    },
    {
     "name": "stderr",
     "output_type": "stream",
     "text": []
    },
    {
     "name": "stdout",
     "output_type": "stream",
     "text": [
      "Working with Nosso Bar, ChIJddVazoBZzpQRJJuAMmsyIAo\n",
      "'current_opening_hours'\n"
     ]
    },
    {
     "name": "stderr",
     "output_type": "stream",
     "text": []
    },
    {
     "name": "stdout",
     "output_type": "stream",
     "text": [
      "Working with Bar Lounge 97, ChIJw1URVXtZzpQR1MuhlvZjR78\n",
      "'current_opening_hours'\n",
      "Working with Evaristo's Bar, ChIJRYz3gZlZzpQRZzP4E6AXF80\n",
      "Evaristo's Bar inserted into MongoDB\n"
     ]
    },
    {
     "name": "stderr",
     "output_type": "stream",
     "text": []
    },
    {
     "name": "stdout",
     "output_type": "stream",
     "text": [
      "Working with Petisco Bar, ChIJfaJ9tHpZzpQREaQX687N73I\n",
      "Petisco Bar inserted into MongoDB\n"
     ]
    },
    {
     "name": "stderr",
     "output_type": "stream",
     "text": []
    },
    {
     "name": "stdout",
     "output_type": "stream",
     "text": [
      "Working with A Loja Bar, ChIJJUb5xYNZzpQRBvqTFxH_ftQ\n",
      "A Loja Bar inserted into MongoDB\n"
     ]
    },
    {
     "name": "stderr",
     "output_type": "stream",
     "text": []
    },
    {
     "name": "stdout",
     "output_type": "stream",
     "text": [
      "Working with Trecão Bar, ChIJXwmk0sVbzpQRkadnfZfFTGA\n",
      "Trecão Bar inserted into MongoDB\n"
     ]
    },
    {
     "name": "stderr",
     "output_type": "stream",
     "text": []
    },
    {
     "name": "stdout",
     "output_type": "stream",
     "text": [
      "Working with Giba's Bar e Restaurante, ChIJlxnHqHpZzpQR8TPXAc289As\n",
      "Giba's Bar e Restaurante inserted into MongoDB\n"
     ]
    },
    {
     "name": "stderr",
     "output_type": "stream",
     "text": []
    },
    {
     "name": "stdout",
     "output_type": "stream",
     "text": [
      "Working with Bar e Espetinho Gil Grill, ChIJCz3isEVZzpQR1FQxM3tXOEU\n",
      "Bar e Espetinho Gil Grill inserted into MongoDB\n"
     ]
    },
    {
     "name": "stderr",
     "output_type": "stream",
     "text": []
    },
    {
     "name": "stdout",
     "output_type": "stream",
     "text": [
      "Working with Bar E Restaurante Cavalcante, ChIJn39I5dVbzpQRigyArKF6R-k\n",
      "'current_opening_hours'\n",
      "Working with Bar e Lanches JLV, ChIJOVlEanxZzpQRu2Buv2XicI8\n",
      "Bar e Lanches JLV inserted into MongoDB\n"
     ]
    },
    {
     "name": "stderr",
     "output_type": "stream",
     "text": []
    },
    {
     "name": "stdout",
     "output_type": "stream",
     "text": [
      "Working with Quintal Hostel e Bar, ChIJs1_WYpdZzpQRX3oSmoA5xCQ\n",
      "'current_opening_hours'\n",
      "Working with Bar e Lanches H. P. J, ChIJWa4dGzBazpQRW9kCkaLkm1I\n",
      "Bar e Lanches H. P. J inserted into MongoDB\n"
     ]
    },
    {
     "name": "stderr",
     "output_type": "stream",
     "text": []
    },
    {
     "name": "stdout",
     "output_type": "stream",
     "text": [
      "Working with Violla Gastrobar, ChIJH66i9l1bzpQRLzjnOC9gIa4\n",
      "Violla Gastrobar inserted into MongoDB\n"
     ]
    },
    {
     "name": "stderr",
     "output_type": "stream",
     "text": []
    },
    {
     "name": "stdout",
     "output_type": "stream",
     "text": [
      "Working with Bar e Lanches Onze de Junho, ChIJa1CrbztazpQRBgfR5EmrXmU\n",
      "Bar e Lanches Onze de Junho inserted into MongoDB\n"
     ]
    },
    {
     "name": "stderr",
     "output_type": "stream",
     "text": []
    },
    {
     "name": "stdout",
     "output_type": "stream",
     "text": [
      "Working with Legítimo Bar, ChIJqynihjlazpQRI0N5Ax8W_Cc\n",
      "Legítimo Bar inserted into MongoDB\n"
     ]
    },
    {
     "name": "stderr",
     "output_type": "stream",
     "text": []
    },
    {
     "name": "stdout",
     "output_type": "stream",
     "text": [
      "Working with Belisco Vila Mariana, ChIJoTkSqFxbzpQR92FqZYAsvrw\n",
      "Belisco Vila Mariana inserted into MongoDB\n"
     ]
    },
    {
     "name": "stderr",
     "output_type": "stream",
     "text": []
    },
    {
     "name": "stdout",
     "output_type": "stream",
     "text": [
      "Working with Bar e Lanchonete Estrela da Lins, ChIJ99Yn7tRbzpQRaRS3I1BcqZU\n",
      "Bar e Lanchonete Estrela da Lins inserted into MongoDB\n"
     ]
    },
    {
     "name": "stderr",
     "output_type": "stream",
     "text": []
    },
    {
     "name": "stdout",
     "output_type": "stream",
     "text": [
      "Working with A Villa Bar & Snooker, ChIJ52YE0zVazpQR98ZZNjlO3i4\n",
      "A Villa Bar & Snooker inserted into MongoDB\n"
     ]
    },
    {
     "name": "stderr",
     "output_type": "stream",
     "text": []
    },
    {
     "name": "stdout",
     "output_type": "stream",
     "text": [
      "Working with Sorry Co. Skate Bar Louge - Vila Clementino, ChIJq5et45qHEEgRROQXvipbWzE\n",
      "Sorry Co. Skate Bar Louge - Vila Clementino inserted into MongoDB\n"
     ]
    },
    {
     "name": "stderr",
     "output_type": "stream",
     "text": []
    },
    {
     "name": "stdout",
     "output_type": "stream",
     "text": [
      "Working with Tentação Bar, ChIJJ0-8xDBazpQRC65jpUbFpU8\n",
      "Tentação Bar inserted into MongoDB\n"
     ]
    },
    {
     "name": "stderr",
     "output_type": "stream",
     "text": []
    },
    {
     "name": "stdout",
     "output_type": "stream",
     "text": [
      "Working with Bar e Restaurante Monte Carlo, ChIJWf9aFZZZzpQRgpayoeWaR08\n",
      "Bar e Restaurante Monte Carlo inserted into MongoDB\n"
     ]
    },
    {
     "name": "stderr",
     "output_type": "stream",
     "text": []
    },
    {
     "name": "stdout",
     "output_type": "stream",
     "text": [
      "Working with Bar dos Cravos, ChIJ2zdaS0xZzpQRurHCkuHLveg\n",
      "Bar dos Cravos inserted into MongoDB\n"
     ]
    },
    {
     "name": "stderr",
     "output_type": "stream",
     "text": []
    },
    {
     "name": "stdout",
     "output_type": "stream",
     "text": [
      "Working with Janela Bar Vila Mariana, ChIJBRGcRbVbzpQRGcgCkEls7pI\n",
      "'original_language'\n",
      "Working with Escambo Gastronomia e NanoCervejaria, ChIJYbWQmL9ZzpQRDz7a-uetrAM\n",
      "Escambo Gastronomia e NanoCervejaria inserted into MongoDB\n"
     ]
    },
    {
     "name": "stderr",
     "output_type": "stream",
     "text": []
    },
    {
     "name": "stdout",
     "output_type": "stream",
     "text": [
      "Working with Bar & Lanchonete Bandeira Um, ChIJISkQ6UFSzpQRN2l63DZOmAg\n",
      "Bar & Lanchonete Bandeira Um inserted into MongoDB\n"
     ]
    },
    {
     "name": "stderr",
     "output_type": "stream",
     "text": []
    },
    {
     "name": "stdout",
     "output_type": "stream",
     "text": [
      "Working with Bar Campina de Ouro, ChIJ6QrCvclZzpQR-SH65W0yrdo\n",
      "Bar Campina de Ouro inserted into MongoDB\n"
     ]
    },
    {
     "name": "stderr",
     "output_type": "stream",
     "text": []
    },
    {
     "name": "stdout",
     "output_type": "stream",
     "text": [
      "Working with Bar Serafim, ChIJt8kYHABZzpQR4Ju2dNEW6o8\n",
      "'current_opening_hours'\n",
      "Working with NEW VERGUEIRO Bar e Lanches, ChIJe1DcOyBZzpQR89TNWxnA4aQ\n",
      "NEW VERGUEIRO Bar e Lanches inserted into MongoDB\n"
     ]
    },
    {
     "name": "stderr",
     "output_type": "stream",
     "text": []
    },
    {
     "name": "stdout",
     "output_type": "stream",
     "text": [
      "Working with Atlética Bar da Nil, ChIJ1ziIjZlZzpQRcSM7lz67vr8\n",
      "Atlética Bar da Nil inserted into MongoDB\n"
     ]
    },
    {
     "name": "stderr",
     "output_type": "stream",
     "text": []
    },
    {
     "name": "stdout",
     "output_type": "stream",
     "text": [
      "Working with Bar e Lanches AZ, ChIJCy_G4olZzpQRCymW7756xy4\n",
      "Bar e Lanches AZ inserted into MongoDB\n"
     ]
    },
    {
     "name": "stderr",
     "output_type": "stream",
     "text": []
    },
    {
     "name": "stdout",
     "output_type": "stream",
     "text": [
      "Working with Bar e Lanches Parada Obrigatória - VM, ChIJE1UmPdhZzpQRkdZzsv9TxBE\n",
      "'reviews'\n",
      "Working with Eu Tu Eles Bar, ChIJHZ6TqmVZzpQRm3adIX1Lyio\n",
      "Eu Tu Eles Bar inserted into MongoDB\n"
     ]
    },
    {
     "name": "stderr",
     "output_type": "stream",
     "text": []
    },
    {
     "name": "stdout",
     "output_type": "stream",
     "text": [
      "Working with Bar e Lanchonete Barcellos, ChIJJxfHLJNZzpQRgjhWcO8kyDY\n",
      "Bar e Lanchonete Barcellos inserted into MongoDB\n"
     ]
    },
    {
     "name": "stderr",
     "output_type": "stream",
     "text": []
    },
    {
     "name": "stdout",
     "output_type": "stream",
     "text": [
      "Working with Bar Lanches Estado Israel, ChIJ1XzKPiFazpQR14zfml5p7pQ\n",
      "Bar Lanches Estado Israel inserted into MongoDB\n"
     ]
    },
    {
     "name": "stderr",
     "output_type": "stream",
     "text": []
    },
    {
     "name": "stdout",
     "output_type": "stream",
     "text": [
      "Working with Bar da Dona Inês, ChIJueLc9J1ZzpQRAv3Z5-17s1Q\n",
      "Bar da Dona Inês inserted into MongoDB\n"
     ]
    },
    {
     "name": "stderr",
     "output_type": "stream",
     "text": []
    },
    {
     "name": "stdout",
     "output_type": "stream",
     "text": [
      "Working with Naldo's Bar, ChIJIUNO35BZzpQR5lo2B-1z1c0\n",
      "'original_language'\n"
     ]
    },
    {
     "name": "stderr",
     "output_type": "stream",
     "text": []
    },
    {
     "name": "stdout",
     "output_type": "stream",
     "text": [
      "Working with Bar Manaca, ChIJz2gRNplZzpQRz3y33-HJoIY\n",
      "'original_language'\n"
     ]
    },
    {
     "name": "stderr",
     "output_type": "stream",
     "text": []
    },
    {
     "name": "stdout",
     "output_type": "stream",
     "text": [
      "Working with Bar e Lanches Cinturão, ChIJa6tUSipazpQRkNjSw0Vo91U\n",
      "'original_language'\n",
      "Working with LM - Bar e Lanchonete, ChIJY40X35BZzpQREe934W2w8mU\n",
      "LM - Bar e Lanchonete inserted into MongoDB\n"
     ]
    },
    {
     "name": "stderr",
     "output_type": "stream",
     "text": []
    },
    {
     "name": "stdout",
     "output_type": "stream",
     "text": [
      "Working with the Milton Bar, ChIJFfUA57VbzpQRzJqFlA_bqO0\n",
      "the Milton Bar inserted into MongoDB\n"
     ]
    },
    {
     "name": "stderr",
     "output_type": "stream",
     "text": []
    },
    {
     "name": "stdout",
     "output_type": "stream",
     "text": [
      "Working with Quintal da Casemiro, ChIJz_UkNTZazpQRcJJM6hp1IgE\n",
      "Quintal da Casemiro inserted into MongoDB\n"
     ]
    },
    {
     "name": "stderr",
     "output_type": "stream",
     "text": []
    },
    {
     "name": "stdout",
     "output_type": "stream",
     "text": [
      "Working with Germano Bar e Botequim, ChIJUbh5vmJbzpQRSqAXNE_qqxY\n",
      "Germano Bar e Botequim inserted into MongoDB\n"
     ]
    },
    {
     "name": "stderr",
     "output_type": "stream",
     "text": []
    },
    {
     "name": "stdout",
     "output_type": "stream",
     "text": [
      "Working with Cantinho da Jureia - Lanchonete e Bar, ChIJCb9KGrVbzpQRcxSnoOCdQ8g\n",
      "Cantinho da Jureia - Lanchonete e Bar inserted into MongoDB\n"
     ]
    },
    {
     "name": "stderr",
     "output_type": "stream",
     "text": []
    },
    {
     "name": "stdout",
     "output_type": "stream",
     "text": [
      "Working with Bar da Cica, ChIJD1Lva8RbzpQR1mpiUDPXSOA\n",
      "Bar da Cica inserted into MongoDB\n"
     ]
    },
    {
     "name": "stderr",
     "output_type": "stream",
     "text": []
    },
    {
     "name": "stdout",
     "output_type": "stream",
     "text": [
      "Working with O Boto Lounge Bar, ChIJGSkMwdNhzpQRw4rtH1BjkXg\n",
      "O Boto Lounge Bar inserted into MongoDB\n"
     ]
    },
    {
     "name": "stderr",
     "output_type": "stream",
     "text": []
    },
    {
     "name": "stdout",
     "output_type": "stream",
     "text": [
      "Working with Minami Vilas Bar e Petiskaria, ChIJ_43DO85bzpQRZ5owC-jYwHk\n",
      "Minami Vilas Bar e Petiskaria inserted into MongoDB\n"
     ]
    },
    {
     "name": "stderr",
     "output_type": "stream",
     "text": []
    },
    {
     "name": "stdout",
     "output_type": "stream",
     "text": [
      "Working with Bar Uga Uga, ChIJjZi7B8hbzpQRDlwv-tRmx7M\n",
      "Bar Uga Uga inserted into MongoDB\n"
     ]
    },
    {
     "name": "stderr",
     "output_type": "stream",
     "text": []
    },
    {
     "name": "stdout",
     "output_type": "stream",
     "text": [
      "Working with Bar e Lanches Nonato & Nonato, ChIJEy9fE8lbzpQRXH7HjX9FBl0\n",
      "'current_opening_hours'\n",
      "Working with Old Bar e Gastronomia, ChIJBwWdJJRbzpQRY1x8Ox1oKLI\n",
      "Old Bar e Gastronomia inserted into MongoDB\n"
     ]
    },
    {
     "name": "stderr",
     "output_type": "stream",
     "text": []
    },
    {
     "name": "stdout",
     "output_type": "stream",
     "text": [
      "Working with Seu Góis Bar e Grill, ChIJSz5ijDlazpQRu4kczJ8GDSU\n",
      "Seu Góis Bar e Grill inserted into MongoDB\n"
     ]
    },
    {
     "name": "stderr",
     "output_type": "stream",
     "text": []
    },
    {
     "name": "stdout",
     "output_type": "stream",
     "text": [
      "Working with Brazinha - O bar do Brazeiro, ChIJs9skzJRbzpQRXCRTd4wJf84\n",
      "Brazinha - O bar do Brazeiro inserted into MongoDB\n"
     ]
    },
    {
     "name": "stderr",
     "output_type": "stream",
     "text": []
    },
    {
     "name": "stdout",
     "output_type": "stream",
     "text": [
      "Working with The 70 Years Bar, ChIJsUeR9DZazpQRZqAi-4_LrAE\n",
      "The 70 Years Bar inserted into MongoDB\n"
     ]
    },
    {
     "name": "stderr",
     "output_type": "stream",
     "text": []
    },
    {
     "name": "stdout",
     "output_type": "stream",
     "text": [
      "Working with Bar do Julio, ChIJPYg_zCdazpQR_aefnhq-JPY\n",
      "'original_language'\n",
      "Working with Boteco Central Vergueiro, ChIJfXxLcABbzpQRMy2nXHtZ2f4\n",
      "Boteco Central Vergueiro inserted into MongoDB\n"
     ]
    },
    {
     "name": "stderr",
     "output_type": "stream",
     "text": []
    },
    {
     "name": "stdout",
     "output_type": "stream",
     "text": [
      "Working with Giba Bar, ChIJgbjf2DtazpQRXawIYfm3d0Y\n",
      "'current_opening_hours'\n",
      "Working with Bar e Restaurante Rainha da Luis Góis, ChIJ3ztwEKtbzpQRibGH9O53NDU\n",
      "Bar e Restaurante Rainha da Luis Góis inserted into MongoDB\n"
     ]
    },
    {
     "name": "stderr",
     "output_type": "stream",
     "text": []
    },
    {
     "name": "stdout",
     "output_type": "stream",
     "text": [
      "Working with Bira Bar e Grill, ChIJy5l_fgBbzpQRasKC9vRPq3w\n",
      "'current_opening_hours'\n"
     ]
    },
    {
     "name": "stderr",
     "output_type": "stream",
     "text": []
    },
    {
     "name": "stdout",
     "output_type": "stream",
     "text": [
      "Working with 269 IPIRANGA BAR, ChIJdQ231EJbzpQRlVv8T1kTri8\n",
      "'original_language'\n",
      "Working with B Ó II BAR, ChIJ24xsY0hazpQR4xPPD1bote0\n",
      "B Ó II BAR inserted into MongoDB\n"
     ]
    },
    {
     "name": "stderr",
     "output_type": "stream",
     "text": []
    },
    {
     "name": "stdout",
     "output_type": "stream",
     "text": [
      "Working with Fran's Bar, ChIJh68dAUpazpQRlnpobgLz7bc\n",
      "'current_opening_hours'\n"
     ]
    },
    {
     "name": "stderr",
     "output_type": "stream",
     "text": []
    },
    {
     "name": "stdout",
     "output_type": "stream",
     "text": [
      "Working with Biblioteca Bar, ChIJw_do771bzpQRRYQJH-oWpa0\n",
      "'current_opening_hours'\n",
      "Working with Malta Rock Bar e Estúdio, ChIJ63cKpc9bzpQR67hDq5mI4lM\n",
      "Malta Rock Bar e Estúdio inserted into MongoDB\n"
     ]
    },
    {
     "name": "stderr",
     "output_type": "stream",
     "text": []
    },
    {
     "name": "stdout",
     "output_type": "stream",
     "text": [
      "Working with Bar Chapadão, ChIJcwCfI0lazpQR_6T6qlocjp0\n",
      "Bar Chapadão inserted into MongoDB\n"
     ]
    },
    {
     "name": "stderr",
     "output_type": "stream",
     "text": []
    },
    {
     "name": "stdout",
     "output_type": "stream",
     "text": [
      "Working with Bar Blonde, ChIJdRQnFMhbzpQRgx94i3wAjRY\n",
      "Bar Blonde inserted into MongoDB\n"
     ]
    },
    {
     "name": "stderr",
     "output_type": "stream",
     "text": []
    },
    {
     "name": "stdout",
     "output_type": "stream",
     "text": [
      "Working with Bar Assungui, ChIJo77qh7tbzpQRZwnCW3CBQwI\n",
      "Bar Assungui inserted into MongoDB\n"
     ]
    },
    {
     "name": "stderr",
     "output_type": "stream",
     "text": []
    },
    {
     "name": "stdout",
     "output_type": "stream",
     "text": [
      "Working with Campina Grande Bar, ChIJp-Wga0xazpQRYuSk2aIlHLg\n",
      "Campina Grande Bar inserted into MongoDB\n"
     ]
    },
    {
     "name": "stderr",
     "output_type": "stream",
     "text": []
    },
    {
     "name": "stdout",
     "output_type": "stream",
     "text": [
      "Working with Gama Bar, ChIJr4z38zZazpQR0eRge7XNiUI\n",
      "Gama Bar inserted into MongoDB\n"
     ]
    },
    {
     "name": "stderr",
     "output_type": "stream",
     "text": []
    },
    {
     "name": "stdout",
     "output_type": "stream",
     "text": [
      "Working with Bar da Santa, ChIJcSzYVDBazpQRbicwgosBBlk\n",
      "Bar da Santa inserted into MongoDB\n"
     ]
    },
    {
     "name": "stderr",
     "output_type": "stream",
     "text": []
    },
    {
     "name": "stdout",
     "output_type": "stream",
     "text": [
      "Working with Bar Do Mudo, ChIJEQXBhclbzpQRZeI9Yv8CSBA\n",
      "'reviews'\n"
     ]
    },
    {
     "name": "stderr",
     "output_type": "stream",
     "text": []
    },
    {
     "name": "stdout",
     "output_type": "stream",
     "text": [
      "Working with Bar e Lanches Flavia & Farias, ChIJc1w8WrhbzpQRLVktiRvZzfA\n",
      "'current_opening_hours'\n",
      "Working with Sandoiti Snack Bar, ChIJVUFAqixazpQRBLjDtnQnxWE\n",
      "Sandoiti Snack Bar inserted into MongoDB\n"
     ]
    },
    {
     "name": "stderr",
     "output_type": "stream",
     "text": []
    },
    {
     "name": "stdout",
     "output_type": "stream",
     "text": [
      "Working with Soneto Bar e Restaurante, ChIJZ_S2pzFazpQRJWA34gCIwv4\n",
      "Soneto Bar e Restaurante inserted into MongoDB\n"
     ]
    },
    {
     "name": "stderr",
     "output_type": "stream",
     "text": []
    },
    {
     "name": "stdout",
     "output_type": "stream",
     "text": [
      "Working with Bar da Maria, ChIJwam0ezZazpQRcWe8reYD3lg\n",
      "Bar da Maria inserted into MongoDB\n"
     ]
    },
    {
     "name": "stderr",
     "output_type": "stream",
     "text": []
    },
    {
     "name": "stdout",
     "output_type": "stream",
     "text": [
      "Working with Bar Lanches Oliveira Melo, ChIJ4UYx4MRbzpQRZjFL56mpqNI\n",
      "Bar Lanches Oliveira Melo inserted into MongoDB\n"
     ]
    },
    {
     "name": "stderr",
     "output_type": "stream",
     "text": []
    },
    {
     "name": "stdout",
     "output_type": "stream",
     "text": [
      "Working with Bene's Bar, ChIJq0wubLBbzpQRC2Ou-O6NCxw\n",
      "Bene's Bar inserted into MongoDB\n"
     ]
    },
    {
     "name": "stderr",
     "output_type": "stream",
     "text": []
    },
    {
     "name": "stdout",
     "output_type": "stream",
     "text": [
      "Working with Bar Estação Miranda, ChIJzd4n-jdbzpQRrdbx_q4yfxA\n",
      "'current_opening_hours'\n",
      "Working with Gaúchão Bar Grill, ChIJOc5ORUlazpQR_BIdUm0Ln4w\n",
      "Gaúchão Bar Grill inserted into MongoDB\n"
     ]
    },
    {
     "name": "stderr",
     "output_type": "stream",
     "text": []
    },
    {
     "name": "stdout",
     "output_type": "stream",
     "text": [
      "Working with Recintos Bar e Restaurante, ChIJk1UnTzxbzpQRcY0m_1lb5bQ\n",
      "Recintos Bar e Restaurante inserted into MongoDB\n"
     ]
    },
    {
     "name": "stderr",
     "output_type": "stream",
     "text": []
    },
    {
     "name": "stdout",
     "output_type": "stream",
     "text": [
      "Working with Bar do Tavares, ChIJmXeISsRbzpQRuWRV8SrV_AU\n",
      "'original_language'\n",
      "Working with Bar do Grettes, ChIJX9-rxjRazpQRrENZ_7ptCoQ\n",
      "Bar do Grettes inserted into MongoDB\n"
     ]
    },
    {
     "name": "stderr",
     "output_type": "stream",
     "text": []
    },
    {
     "name": "stdout",
     "output_type": "stream",
     "text": [
      "Working with Bar do Sirlane, ChIJG0VYh4hbzpQRNKRnWJNzUTk\n",
      "'current_opening_hours'\n",
      "Working with Bug's Bar e Lanches, ChIJl6L8hrpbzpQRBzDI5jC77W0\n",
      "Bug's Bar e Lanches inserted into MongoDB\n"
     ]
    },
    {
     "name": "stderr",
     "output_type": "stream",
     "text": []
    },
    {
     "name": "stdout",
     "output_type": "stream",
     "text": [
      "Working with Bar e Restaurante Beirute, ChIJfbgxkJpZzpQR3gjUJnnGO6c\n",
      "Bar e Restaurante Beirute inserted into MongoDB\n"
     ]
    },
    {
     "name": "stderr",
     "output_type": "stream",
     "text": []
    },
    {
     "name": "stdout",
     "output_type": "stream",
     "text": [
      "Working with Bargunçado Bar, ChIJRbUXSf9bzpQRTaFuuBSXDxk\n",
      "'current_opening_hours'\n"
     ]
    },
    {
     "name": "stderr",
     "output_type": "stream",
     "text": []
    },
    {
     "name": "stdout",
     "output_type": "stream",
     "text": [
      "Working with Bar Oliveira, ChIJC2PI4sRbzpQR95Kl7Pn9sOk\n",
      "'current_opening_hours'\n",
      "Working with Lanchonete Rodrigues e Souto, ChIJz_6SCDZazpQRmd9sFacrfUA\n",
      "Lanchonete Rodrigues e Souto inserted into MongoDB\n"
     ]
    },
    {
     "name": "stderr",
     "output_type": "stream",
     "text": []
    },
    {
     "name": "stdout",
     "output_type": "stream",
     "text": [
      "Working with K. Restaurante e Bar, ChIJC81HtN5bzpQRUrPCLGMbql0\n",
      "K. Restaurante e Bar inserted into MongoDB\n"
     ]
    },
    {
     "name": "stderr",
     "output_type": "stream",
     "text": []
    },
    {
     "name": "stdout",
     "output_type": "stream",
     "text": [
      "Working with Bar Lanches Lilazes, ChIJF5JWkr5bzpQR4wKV-O7vanM\n",
      "Bar Lanches Lilazes inserted into MongoDB\n"
     ]
    },
    {
     "name": "stderr",
     "output_type": "stream",
     "text": []
    },
    {
     "name": "stdout",
     "output_type": "stream",
     "text": [
      "Working with Bar & Lanches Simonico, ChIJy-8QfElazpQRFIF3HRV1ZmM\n",
      "Bar & Lanches Simonico inserted into MongoDB\n"
     ]
    },
    {
     "name": "stderr",
     "output_type": "stream",
     "text": []
    },
    {
     "name": "stdout",
     "output_type": "stream",
     "text": [
      "Working with Bar do Peixe, ChIJ2x_CK7xbzpQRO_92Vr8Caz0\n",
      "Bar do Peixe inserted into MongoDB\n"
     ]
    },
    {
     "name": "stderr",
     "output_type": "stream",
     "text": []
    },
    {
     "name": "stdout",
     "output_type": "stream",
     "text": [
      "Working with Bar Dona breja, ChIJk52SRK5bzpQRkgFdL9EGPs8\n",
      "Bar Dona breja inserted into MongoDB\n"
     ]
    },
    {
     "name": "stderr",
     "output_type": "stream",
     "text": []
    },
    {
     "name": "stdout",
     "output_type": "stream",
     "text": [
      "Working with Veras'Bar, ChIJbcAvCL1bzpQR_033-BqCs-s\n",
      "Veras'Bar inserted into MongoDB\n"
     ]
    },
    {
     "name": "stderr",
     "output_type": "stream",
     "text": []
    },
    {
     "name": "stdout",
     "output_type": "stream",
     "text": [
      "Working with Bar Do Rui, ChIJ58w7CNxbzpQRETvZ74iOM8E\n",
      "Bar Do Rui inserted into MongoDB\n"
     ]
    },
    {
     "name": "stderr",
     "output_type": "stream",
     "text": []
    },
    {
     "name": "stdout",
     "output_type": "stream",
     "text": [
      "Working with Bar da Vi, ChIJ-4XUAb5bzpQRQFhjBBf5rq4\n",
      "Bar da Vi inserted into MongoDB\n"
     ]
    },
    {
     "name": "stderr",
     "output_type": "stream",
     "text": []
    },
    {
     "name": "stdout",
     "output_type": "stream",
     "text": [
      "Working with Vá Benne Pizzaria, ChIJNcm0FIhZzpQRg0HLR3tqegc\n",
      "Vá Benne Pizzaria inserted into MongoDB\n"
     ]
    },
    {
     "name": "stderr",
     "output_type": "stream",
     "text": []
    },
    {
     "name": "stdout",
     "output_type": "stream",
     "text": [
      "Working with Véio Loco Bar, ChIJiRFbDd9bzpQRO05YMVTO0tI\n",
      "Véio Loco Bar inserted into MongoDB\n"
     ]
    },
    {
     "name": "stderr",
     "output_type": "stream",
     "text": []
    },
    {
     "name": "stdout",
     "output_type": "stream",
     "text": [
      "Working with Reis Bar & Restaurante, ChIJta0IIetbzpQRcnTLqfuLnR0\n",
      "Reis Bar & Restaurante inserted into MongoDB\n"
     ]
    },
    {
     "name": "stderr",
     "output_type": "stream",
     "text": []
    },
    {
     "name": "stdout",
     "output_type": "stream",
     "text": [
      "Working with Bar do Marcio, ChIJL4WExBpazpQRCBiH4GaoSCQ\n",
      "Bar do Marcio inserted into MongoDB\n"
     ]
    },
    {
     "name": "stderr",
     "output_type": "stream",
     "text": []
    },
    {
     "name": "stdout",
     "output_type": "stream",
     "text": [
      "Working with Bar Café Amigão, ChIJHzcccANazpQRJeRBCWLbNxc\n",
      "Bar Café Amigão inserted into MongoDB\n"
     ]
    },
    {
     "name": "stderr",
     "output_type": "stream",
     "text": []
    },
    {
     "name": "stdout",
     "output_type": "stream",
     "text": [
      "Working with Bar Jobim, ChIJVVVBVxBazpQR1MB4TvD2mG0\n",
      "Bar Jobim inserted into MongoDB\n"
     ]
    },
    {
     "name": "stderr",
     "output_type": "stream",
     "text": []
    },
    {
     "name": "stdout",
     "output_type": "stream",
     "text": [
      "Working with Caires Bread Bakery Restaurant and Snack Bar, ChIJdTRsHIRZzpQRMDxDPhWwqyE\n",
      "Caires Bread Bakery Restaurant and Snack Bar inserted into MongoDB\n"
     ]
    },
    {
     "name": "stderr",
     "output_type": "stream",
     "text": []
    },
    {
     "name": "stdout",
     "output_type": "stream",
     "text": [
      "Working with Bar da Villa, ChIJR9fKJP5ZzpQRcRb_-i23HyE\n",
      "Bar da Villa inserted into MongoDB\n"
     ]
    },
    {
     "name": "stderr",
     "output_type": "stream",
     "text": []
    },
    {
     "name": "stdout",
     "output_type": "stream",
     "text": [
      "Working with Bar Frederico, ChIJTQnM8Q1azpQRMVPFcTQ3R88\n",
      "Bar Frederico inserted into MongoDB\n"
     ]
    },
    {
     "name": "stderr",
     "output_type": "stream",
     "text": []
    },
    {
     "name": "stdout",
     "output_type": "stream",
     "text": [
      "Working with cava bar, ChIJ3zhdr8RZzpQRaDSzFXHcwCo\n",
      "cava bar inserted into MongoDB\n"
     ]
    },
    {
     "name": "stderr",
     "output_type": "stream",
     "text": []
    },
    {
     "name": "stdout",
     "output_type": "stream",
     "text": [
      "Working with Garôa Restaurante & Bar, ChIJl80mscRZzpQRXR7XMn-xTtg\n",
      "Garôa Restaurante & Bar inserted into MongoDB\n"
     ]
    },
    {
     "name": "stderr",
     "output_type": "stream",
     "text": []
    },
    {
     "name": "stdout",
     "output_type": "stream",
     "text": [
      "Working with Zurich Bar & Restaurante, ChIJaQT16sRZzpQREKC1w53B6BY\n",
      "Zurich Bar & Restaurante inserted into MongoDB\n"
     ]
    },
    {
     "name": "stderr",
     "output_type": "stream",
     "text": []
    },
    {
     "name": "stdout",
     "output_type": "stream",
     "text": [
      "Working with Mixto Bar Gastronomia Arte, ChIJG1JizTRZzpQR_Xr6RnRiHNk\n",
      "'original_language'\n",
      "Working with TGI Fridays Shopping Patio Paulista: Sports Bar, Drinks, Happy Hour em São Paulo, ChIJu941YZlZzpQRjCDYS_OgNIY\n",
      "TGI Fridays Shopping Patio Paulista: Sports Bar, Drinks, Happy Hour em São Paulo inserted into MongoDB\n"
     ]
    },
    {
     "name": "stderr",
     "output_type": "stream",
     "text": []
    },
    {
     "name": "stdout",
     "output_type": "stream",
     "text": [
      "Working with Skye, ChIJpUToQOFZzpQR44DnWaMFgO4\n",
      "Skye inserted into MongoDB\n"
     ]
    },
    {
     "name": "stderr",
     "output_type": "stream",
     "text": []
    },
    {
     "name": "stdout",
     "output_type": "stream",
     "text": [
      "Working with Ludus Luderia®️, ChIJTaG5ALpZzpQRUDErQ-RkfTs\n",
      "Ludus Luderia®️ inserted into MongoDB\n"
     ]
    },
    {
     "name": "stderr",
     "output_type": "stream",
     "text": []
    },
    {
     "name": "stdout",
     "output_type": "stream",
     "text": [
      "Working with Flora Bar, ChIJv2uulPpZzpQRh5r8AO6JcH8\n",
      "Flora Bar inserted into MongoDB\n"
     ]
    },
    {
     "name": "stderr",
     "output_type": "stream",
     "text": []
    },
    {
     "name": "stdout",
     "output_type": "stream",
     "text": [
      "Working with Chagas Bar, ChIJsW_fsphZzpQRGwJOOmKUwIA\n",
      "Chagas Bar inserted into MongoDB\n"
     ]
    },
    {
     "name": "stderr",
     "output_type": "stream",
     "text": []
    },
    {
     "name": "stdout",
     "output_type": "stream",
     "text": [
      "Working with Vitral Bar, ChIJIfbhKe5ZzpQREDm44yv3A4o\n",
      "Vitral Bar inserted into MongoDB\n"
     ]
    },
    {
     "name": "stderr",
     "output_type": "stream",
     "text": []
    },
    {
     "name": "stdout",
     "output_type": "stream",
     "text": [
      "Working with Tatu Bola Bar, ChIJe4txQdZZzpQRUR_JI2PibTE\n",
      "Tatu Bola Bar inserted into MongoDB\n"
     ]
    },
    {
     "name": "stderr",
     "output_type": "stream",
     "text": []
    },
    {
     "name": "stdout",
     "output_type": "stream",
     "text": [
      "Working with Sandolin's Bar, ChIJ-XxGwMFZzpQRA2m4SUSKyuQ\n",
      "Sandolin's Bar inserted into MongoDB\n"
     ]
    },
    {
     "name": "stderr",
     "output_type": "stream",
     "text": []
    },
    {
     "name": "stdout",
     "output_type": "stream",
     "text": [
      "Working with Delluccio Pizza Bar, ChIJy4HS4MNZzpQR9aShg3KSkvQ\n",
      "Delluccio Pizza Bar inserted into MongoDB\n"
     ]
    },
    {
     "name": "stderr",
     "output_type": "stream",
     "text": []
    },
    {
     "name": "stdout",
     "output_type": "stream",
     "text": [
      "Working with Bar Astor Oscar Freire, ChIJ22w-VeZZzpQRfYiXTelvXX8\n",
      "Bar Astor Oscar Freire inserted into MongoDB\n"
     ]
    },
    {
     "name": "stderr",
     "output_type": "stream",
     "text": []
    },
    {
     "name": "stdout",
     "output_type": "stream",
     "text": [
      "Working with Must Bar, ChIJB3IvyshZzpQRW7fimUbQRIc\n",
      "Must Bar inserted into MongoDB\n"
     ]
    },
    {
     "name": "stderr",
     "output_type": "stream",
     "text": []
    },
    {
     "name": "stdout",
     "output_type": "stream",
     "text": [
      "Working with AE - Bar e Lanches, ChIJ0XoVmDpazpQRCPyEBpHX2fo\n",
      "AE - Bar e Lanches inserted into MongoDB\n"
     ]
    },
    {
     "name": "stderr",
     "output_type": "stream",
     "text": []
    },
    {
     "name": "stdout",
     "output_type": "stream",
     "text": [
      "Working with Bar e Mercearia Bartolomeu de Gusmao, ChIJ4QRiRoBZzpQRG-aI9cBqms4\n",
      "'current_opening_hours'\n"
     ]
    },
    {
     "name": "stderr",
     "output_type": "stream",
     "text": []
    },
    {
     "name": "stdout",
     "output_type": "stream",
     "text": [
      "Working with Bar do Corinthians, ChIJxy_Uct9bzpQRbjK3J1crwwg\n",
      "'current_opening_hours'\n",
      "Working with Manakahzinho, ChIJt_E-vk1bzpQRZ21cxMLcuKg\n",
      "Manakahzinho inserted into MongoDB\n"
     ]
    },
    {
     "name": "stderr",
     "output_type": "stream",
     "text": []
    },
    {
     "name": "stdout",
     "output_type": "stream",
     "text": [
      "Working with Sede Skate Bar, ChIJQ1tA67BbzpQRuP1cDg5oi7Y\n",
      "'current_opening_hours'\n",
      "Working with Terracinho Bar, ChIJC56U9oVbzpQRO8ryGRyYkRs\n",
      "Terracinho Bar inserted into MongoDB\n"
     ]
    },
    {
     "name": "stderr",
     "output_type": "stream",
     "text": []
    },
    {
     "name": "stdout",
     "output_type": "stream",
     "text": [
      "Working with Bar do Amaral, ChIJYRcDE0hazpQRhsGtPfnHeLQ\n",
      "Bar do Amaral inserted into MongoDB\n"
     ]
    },
    {
     "name": "stderr",
     "output_type": "stream",
     "text": []
    },
    {
     "name": "stdout",
     "output_type": "stream",
     "text": [
      "Working with Bar e Lanches Rigonato, ChIJpdU2pElazpQRmldcxxbP_oc\n",
      "Bar e Lanches Rigonato inserted into MongoDB\n"
     ]
    },
    {
     "name": "stderr",
     "output_type": "stream",
     "text": []
    },
    {
     "name": "stdout",
     "output_type": "stream",
     "text": [
      "Working with Bar do seu chico, ChIJSQ-olEtbzpQR0wVweaNDEaw\n",
      "'original_language'\n",
      "Working with O Seu Boteco Liberdade, ChIJr7PoRQBZzpQRdJJxrOPALto\n",
      "O Seu Boteco Liberdade inserted into MongoDB\n"
     ]
    },
    {
     "name": "stderr",
     "output_type": "stream",
     "text": []
    },
    {
     "name": "stdout",
     "output_type": "stream",
     "text": [
      "Working with O Local, ChIJiXqtXrxZzpQRnjX6g5Pnr8w\n",
      "'reviews'\n",
      "Working with Bar do Neco, ChIJLzFckXBZzpQRE1xdr-ClZ5E\n",
      "Bar do Neco inserted into MongoDB\n"
     ]
    },
    {
     "name": "stderr",
     "output_type": "stream",
     "text": []
    },
    {
     "name": "stdout",
     "output_type": "stream",
     "text": [
      "Working with Zenon's Bar, ChIJdVgnoHZZzpQRzCzwUix51tI\n",
      "Zenon's Bar inserted into MongoDB\n"
     ]
    },
    {
     "name": "stderr",
     "output_type": "stream",
     "text": []
    },
    {
     "name": "stdout",
     "output_type": "stream",
     "text": [
      "Working with Praça de Minas Bar e Restaurante II, ChIJDfeDVbxZzpQR87I9-cW-zv4\n",
      "Praça de Minas Bar e Restaurante II inserted into MongoDB\n"
     ]
    },
    {
     "name": "stderr",
     "output_type": "stream",
     "text": []
    },
    {
     "name": "stdout",
     "output_type": "stream",
     "text": [
      "Working with Cartola Luderia Bar, ChIJrT_EWwBZzpQRGAZzptZbtsY\n",
      "Cartola Luderia Bar inserted into MongoDB\n"
     ]
    },
    {
     "name": "stderr",
     "output_type": "stream",
     "text": []
    },
    {
     "name": "stdout",
     "output_type": "stream",
     "text": [
      "Working with Boteco villa liberdade, ChIJe_eHgK1ZzpQRZSRGDJSbRDk\n",
      "Boteco villa liberdade inserted into MongoDB\n"
     ]
    },
    {
     "name": "stderr",
     "output_type": "stream",
     "text": []
    },
    {
     "name": "stdout",
     "output_type": "stream",
     "text": [
      "Working with Bar dos Mineiros, ChIJWVTfeLlZzpQRlsyXJXZLVR8\n",
      "Bar dos Mineiros inserted into MongoDB\n"
     ]
    },
    {
     "name": "stderr",
     "output_type": "stream",
     "text": []
    },
    {
     "name": "stdout",
     "output_type": "stream",
     "text": [
      "Working with Puppy's Bar, ChIJs89xk8dZzpQR0oK2TcBZHYc\n",
      "Puppy's Bar inserted into MongoDB\n"
     ]
    },
    {
     "name": "stderr",
     "output_type": "stream",
     "text": []
    },
    {
     "name": "stdout",
     "output_type": "stream",
     "text": [
      "Working with BIITS Lounge Bar, ChIJD5V1JK9ZzpQRbVL9QdM8s5k\n",
      "BIITS Lounge Bar inserted into MongoDB\n"
     ]
    },
    {
     "name": "stderr",
     "output_type": "stream",
     "text": []
    },
    {
     "name": "stdout",
     "output_type": "stream",
     "text": [
      "Working with Godet Bar, ChIJQzdQNcZZzpQRAzto2C5TFSw\n",
      "'original_language'\n",
      "Working with Portella Bar, ChIJMaEOUqVZzpQRBNsPAysjCkY\n",
      "Portella Bar inserted into MongoDB\n"
     ]
    },
    {
     "name": "stderr",
     "output_type": "stream",
     "text": []
    },
    {
     "name": "stdout",
     "output_type": "stream",
     "text": [
      "Working with Bar da Onze, ChIJ09w1rCJazpQRP9_0zb-3wcw\n",
      "Bar da Onze inserted into MongoDB\n"
     ]
    },
    {
     "name": "stderr",
     "output_type": "stream",
     "text": []
    },
    {
     "name": "stdout",
     "output_type": "stream",
     "text": [
      "Working with Bar Lanches Areco, ChIJqdGOpo1ZzpQRB3mkpU0ddYo\n",
      "Bar Lanches Areco inserted into MongoDB\n"
     ]
    },
    {
     "name": "stderr",
     "output_type": "stream",
     "text": []
    },
    {
     "name": "stdout",
     "output_type": "stream",
     "text": [
      "Working with Bar Original, ChIJpxoM16pQzpQRTKYeucd9Yjk\n",
      "Bar Original inserted into MongoDB\n"
     ]
    },
    {
     "name": "stderr",
     "output_type": "stream",
     "text": []
    },
    {
     "name": "stdout",
     "output_type": "stream",
     "text": [
      "Working with Bar do Zuza, ChIJ8a-iKYlZzpQR4KFQA9FDdFM\n",
      "'current_opening_hours'\n",
      "Working with Bar Macloud, ChIJTZqB33pZzpQRnSS5mhx8KBo\n",
      "Bar Macloud inserted into MongoDB\n"
     ]
    },
    {
     "name": "stderr",
     "output_type": "stream",
     "text": []
    },
    {
     "name": "stdout",
     "output_type": "stream",
     "text": [
      "Working with BAR DO GALO, ChIJEcjnHGRZzpQRStoC5OnMEa4\n",
      "'current_opening_hours'\n",
      "Working with Bar da Branca, ChIJJ9ZZnW9ZzpQRAtH4X8DtKNc\n",
      "Bar da Branca inserted into MongoDB\n"
     ]
    },
    {
     "name": "stderr",
     "output_type": "stream",
     "text": []
    },
    {
     "name": "stdout",
     "output_type": "stream",
     "text": [
      "Working with Maria do Carmo de Abreu Bar, ChIJn0nLeW9ZzpQR6HOPP0yuVBY\n",
      "Maria do Carmo de Abreu Bar inserted into MongoDB\n"
     ]
    },
    {
     "name": "stderr",
     "output_type": "stream",
     "text": []
    },
    {
     "name": "stdout",
     "output_type": "stream",
     "text": [
      "Working with Bar e Lanches Orozimbo, ChIJs3mzDnFZzpQRMYcwaj1CRVI\n",
      "Bar e Lanches Orozimbo inserted into MongoDB\n"
     ]
    },
    {
     "name": "stderr",
     "output_type": "stream",
     "text": []
    },
    {
     "name": "stdout",
     "output_type": "stream",
     "text": [
      "Working with Bar da Branca, ChIJQYNrqm9ZzpQR7NY2UVCjSWE\n",
      "Bar da Branca inserted into MongoDB\n"
     ]
    },
    {
     "name": "stderr",
     "output_type": "stream",
     "text": []
    },
    {
     "name": "stdout",
     "output_type": "stream",
     "text": [
      "Working with Bar e Lanches Caravelas, ChIJ-agchZJZzpQRTMVN5bJyxsw\n",
      "Bar e Lanches Caravelas inserted into MongoDB\n"
     ]
    },
    {
     "name": "stderr",
     "output_type": "stream",
     "text": []
    },
    {
     "name": "stdout",
     "output_type": "stream",
     "text": [
      "Working with Maria Namoradeira Espetinhos, ChIJJ-QqxHtZzpQRYRjlr-alIro\n",
      "Maria Namoradeira Espetinhos inserted into MongoDB\n"
     ]
    },
    {
     "name": "stderr",
     "output_type": "stream",
     "text": []
    },
    {
     "name": "stdout",
     "output_type": "stream",
     "text": [
      "Working with Beer4u Aclimação, ChIJ443OfABZzpQRjJk9RZGFDVU\n",
      "Beer4u Aclimação inserted into MongoDB\n"
     ]
    },
    {
     "name": "stderr",
     "output_type": "stream",
     "text": []
    },
    {
     "name": "stdout",
     "output_type": "stream",
     "text": [
      "Working with Balaiada Bar & Restô, ChIJq6qe251ZzpQRQbqLjBK2eic\n",
      "Balaiada Bar & Restô inserted into MongoDB\n"
     ]
    },
    {
     "name": "stderr",
     "output_type": "stream",
     "text": []
    },
    {
     "name": "stdout",
     "output_type": "stream",
     "text": [
      "Working with Bar restaurante e lanchonete, ChIJAxS09S9azpQRBHtkmCmK0v4\n",
      "Bar restaurante e lanchonete inserted into MongoDB\n"
     ]
    },
    {
     "name": "stderr",
     "output_type": "stream",
     "text": []
    },
    {
     "name": "stdout",
     "output_type": "stream",
     "text": [
      "Working with Bar & Restaurante Du Chef, ChIJK_nuFNhbzpQRtysAfExDu6s\n",
      "Bar & Restaurante Du Chef inserted into MongoDB\n"
     ]
    },
    {
     "name": "stderr",
     "output_type": "stream",
     "text": []
    },
    {
     "name": "stdout",
     "output_type": "stream",
     "text": [
      "Working with Fenix Dourada bar e restaurante, ChIJ33e-iJJZzpQRw0isC8an9TY\n",
      "Fenix Dourada bar e restaurante inserted into MongoDB\n"
     ]
    },
    {
     "name": "stderr",
     "output_type": "stream",
     "text": []
    },
    {
     "name": "stdout",
     "output_type": "stream",
     "text": [
      "Working with Bohemian Bar & Comida Árabe, ChIJ55vVvYdZzpQR_Z0QxyeHmwQ\n",
      "'current_opening_hours'\n",
      "Working with Botequim Saúde, ChIJL55mgVFazpQRehHku4iO5tY\n",
      "Botequim Saúde inserted into MongoDB\n"
     ]
    },
    {
     "name": "stderr",
     "output_type": "stream",
     "text": []
    },
    {
     "name": "stdout",
     "output_type": "stream",
     "text": [
      "Working with Bar Do Galo, ChIJ8-UyvmxZzpQR88PQY3G_Bpw\n",
      "'original_language'\n"
     ]
    },
    {
     "name": "stderr",
     "output_type": "stream",
     "text": []
    },
    {
     "name": "stdout",
     "output_type": "stream",
     "text": [
      "Working with Bar Da Nalva, ChIJK7d412FZzpQRHWDYnsA6v5o\n",
      "'current_opening_hours'\n",
      "Working with Bar e Restaurante Gois, ChIJr_DqKmdZzpQRTwQLcvUF8RQ\n",
      "Bar e Restaurante Gois inserted into MongoDB\n"
     ]
    },
    {
     "name": "stderr",
     "output_type": "stream",
     "text": []
    },
    {
     "name": "stdout",
     "output_type": "stream",
     "text": [
      "Working with Bar e Mercearia Estrela D'Alva, ChIJAyv3Kt9bzpQR-996HbPr1rI\n",
      "Bar e Mercearia Estrela D'Alva inserted into MongoDB\n"
     ]
    },
    {
     "name": "stderr",
     "output_type": "stream",
     "text": []
    },
    {
     "name": "stdout",
     "output_type": "stream",
     "text": [
      "Working with Bar do Nico, ChIJ28aGz6wEzpQRfqbqeeR5UMw\n",
      "Bar do Nico inserted into MongoDB\n"
     ]
    },
    {
     "name": "stderr",
     "output_type": "stream",
     "text": []
    },
    {
     "name": "stdout",
     "output_type": "stream",
     "text": [
      "Working with Bar e Lanchonete do Ipiranga, ChIJ5zuZAsVbzpQRxTD3NE48r98\n",
      "'current_opening_hours'\n",
      "Working with Skina Chic Bar, ChIJeccwTRBazpQRHgYBPF3Y0tY\n",
      "Skina Chic Bar inserted into MongoDB\n"
     ]
    },
    {
     "name": "stderr",
     "output_type": "stream",
     "text": []
    },
    {
     "name": "stdout",
     "output_type": "stream",
     "text": [
      "Working with Vermelhinho Bar, ChIJYaZzXg5azpQRxmcavOzg26k\n",
      "Vermelhinho Bar inserted into MongoDB\n"
     ]
    },
    {
     "name": "stderr",
     "output_type": "stream",
     "text": []
    },
    {
     "name": "stdout",
     "output_type": "stream",
     "text": [
      "Working with Viana Bar Grill, ChIJi3A7cg1azpQRHKjTqJP0vRw\n",
      "Viana Bar Grill inserted into MongoDB\n"
     ]
    },
    {
     "name": "stderr",
     "output_type": "stream",
     "text": []
    },
    {
     "name": "stdout",
     "output_type": "stream",
     "text": [
      "Working with Rincão Bar & Grill, ChIJz3y8rw1azpQR7MMj-onzAjY\n",
      "Rincão Bar & Grill inserted into MongoDB\n"
     ]
    },
    {
     "name": "stderr",
     "output_type": "stream",
     "text": []
    },
    {
     "name": "stdout",
     "output_type": "stream",
     "text": [
      "Working with Bar da Vila, ChIJoccYtA5azpQRSVaiD5aw-MQ\n",
      "Bar da Vila inserted into MongoDB\n"
     ]
    },
    {
     "name": "stderr",
     "output_type": "stream",
     "text": []
    },
    {
     "name": "stdout",
     "output_type": "stream",
     "text": [
      "Working with O Bar, ChIJOcYOun1ZzpQRL6Fshe5zKrQ\n",
      "'current_opening_hours'\n",
      "Working with Leo's Bar, ChIJ-bXfEqFZzpQRhwV5_YRwdwg\n",
      "Leo's Bar inserted into MongoDB\n"
     ]
    },
    {
     "name": "stderr",
     "output_type": "stream",
     "text": []
    },
    {
     "name": "stdout",
     "output_type": "stream",
     "text": [
      "Working with Almeida Bar, ChIJJ3WePeBZzpQRF8pGzBbr2tU\n",
      "Almeida Bar inserted into MongoDB\n"
     ]
    },
    {
     "name": "stderr",
     "output_type": "stream",
     "text": []
    },
    {
     "name": "stdout",
     "output_type": "stream",
     "text": [
      "Working with 430 Gradi Vila Mariana, ChIJ5eOPBy9ZzpQRMTH44oWvcVI\n",
      "430 Gradi Vila Mariana inserted into MongoDB\n"
     ]
    },
    {
     "name": "stderr",
     "output_type": "stream",
     "text": []
    },
    {
     "name": "stdout",
     "output_type": "stream",
     "text": [
      "Working with Bar do Pereira, ChIJ9c4BX3ZZzpQRElMJh54crRk\n",
      "Bar do Pereira inserted into MongoDB\n"
     ]
    },
    {
     "name": "stderr",
     "output_type": "stream",
     "text": []
    },
    {
     "name": "stdout",
     "output_type": "stream",
     "text": [
      "Working with Costa Bar, ChIJpR0LBqNZzpQREWwFTUMsJOU\n",
      "'original_language'\n",
      "Working with Benza Bar, ChIJnzXJWLhZzpQRtKuU1Ohrsn4\n",
      "'reviews'\n",
      "MongoDB updated.\n"
     ]
    }
   ],
   "source": [
    "from tqdm import tqdm\n",
    "import time\n",
    "\n",
    "pbar = tqdm(total=len(df['place_id']))\n",
    "\n",
    "for row in df.iter_rows(named=True):\n",
    "    place_id = row['place_id']\n",
    "\n",
    "    pbar.update(1)\n",
    "    \n",
    "    # Construção da URL\n",
    "    url = f\"https://maps.googleapis.com/maps/api/place/details/json?place_id={place_id}&key={API_KEY}\"\n",
    "    \n",
    "    try:\n",
    "      response = requests.get(url)\n",
    "      print(f'Working with {row[\"name\"]}, {row[\"place_id\"]}')\n",
    "      \n",
    "      if response.status_code == 200:  # Check if the request was successful\n",
    "\n",
    "          response_data = response.json()['result']\n",
    "\n",
    "          # Step 4: Process the response using the api_treatment class\n",
    "          api_treatment = ApiTreatments(request=response_data['current_opening_hours'],reviews=response_data['reviews'])\n",
    "          \n",
    "          # Extract information\n",
    "          pickup = response_data.get('curbside_pickup', False)\n",
    "          takeout = response_data.get('takeout', False)\n",
    "          opening_hours = api_treatment.adjust_and_clean_opening_hours()\n",
    "          beer = response_data.get('serves_beer', False)\n",
    "          wine = response_data.get('serves_wine', False)\n",
    "          accessibility = response_data.get('wheelchair_accessible_entrance', False)\n",
    "          reviews = api_treatment.extract_review_fields()\n",
    "          \n",
    "          # Prepare the data to be stored in MongoDB\n",
    "          data_to_store = {\n",
    "              'place_id': place_id,\n",
    "              'curbside_pickup': pickup,\n",
    "              'takeout': takeout,\n",
    "              'opening_hours': opening_hours,\n",
    "              'serves_beer': beer,\n",
    "              'serves_wine': wine,\n",
    "              'wheelchair_accessible_entrance': accessibility,\n",
    "              'reviews': reviews\n",
    "          }\n",
    "\n",
    "          collection.update_one({'place_id': place_id}, {'$set': data_to_store}, upsert=True)  # Update or insert the document\n",
    "\n",
    "          print(f'{row[\"name\"]} inserted into MongoDB')\n",
    "\n",
    "          #2 seconds sleep, so we don't get banned from the platform.\n",
    "          time.sleep(2)\n",
    "\n",
    "      else:\n",
    "          \n",
    "          print(f\"Failed to retrieve data for place_id: {place_id}. Status code: {response.status_code}\")\n",
    "\n",
    "    except Exception as e:\n",
    "        print(e)\n",
    "\n",
    "client.close()\n",
    "print('MongoDB updated.')"
   ]
  }
 ],
 "metadata": {
  "kernelspec": {
   "display_name": "ai-env",
   "language": "python",
   "name": "python3"
  },
  "language_info": {
   "codemirror_mode": {
    "name": "ipython",
    "version": 3
   },
   "file_extension": ".py",
   "mimetype": "text/x-python",
   "name": "python",
   "nbconvert_exporter": "python",
   "pygments_lexer": "ipython3",
   "version": "3.12.4"
  }
 },
 "nbformat": 4,
 "nbformat_minor": 2
}
