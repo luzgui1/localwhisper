{
 "cells": [
  {
   "cell_type": "code",
   "execution_count": 1,
   "metadata": {},
   "outputs": [],
   "source": [
    "from pymongo import MongoClient\n",
    "import pandas as pd\n",
    "import json\n",
    "import os"
   ]
  },
  {
   "cell_type": "markdown",
   "metadata": {},
   "source": [
    "Conexão no Mongo"
   ]
  },
  {
   "cell_type": "code",
   "execution_count": 2,
   "metadata": {},
   "outputs": [],
   "source": [
    "current_dir = os.getcwd()\n",
    "parent_dir = os.path.dirname(current_dir)\n",
    "\n",
    "os.chdir(parent_dir)\n",
    "\n",
    "configs_dir = os.path.join(parent_dir, 'configs')\n",
    "mongo_config_file = os.path.join(configs_dir, 'mongo.json')\n",
    "\n",
    "with open(mongo_config_file, 'r') as f:\n",
    "    mongo_config = json.load(f)\n",
    "\n",
    "client = MongoClient(mongo_config['url'])\n",
    "\n",
    "db = client['apis']"
   ]
  },
  {
   "cell_type": "markdown",
   "metadata": {},
   "source": [
    "Consumo do db dos bares"
   ]
  },
  {
   "cell_type": "code",
   "execution_count": 3,
   "metadata": {},
   "outputs": [],
   "source": [
    "df = pd.read_csv('C:\\\\Users\\\\guilherme.luz\\\\OneDrive - IT LAB\\\\Área de Trabalho\\\\Guilherme_Luz\\\\Codes\\\\projects\\\\localwhisper\\\\sources\\\\google_api\\\\google_bars.csv',sep=',')"
   ]
  },
  {
   "cell_type": "code",
   "execution_count": 4,
   "metadata": {},
   "outputs": [],
   "source": [
    "bars_dict = df.to_dict('records')"
   ]
  },
  {
   "cell_type": "code",
   "execution_count": 5,
   "metadata": {},
   "outputs": [
    {
     "data": {
      "text/plain": [
       "247"
      ]
     },
     "execution_count": 5,
     "metadata": {},
     "output_type": "execute_result"
    }
   ],
   "source": [
    "len(bars_dict)"
   ]
  },
  {
   "cell_type": "markdown",
   "metadata": {},
   "source": [
    "Criação da collection"
   ]
  },
  {
   "cell_type": "code",
   "execution_count": 6,
   "metadata": {},
   "outputs": [],
   "source": [
    "# collection_name = 'google_api_v1'\n",
    "# db.create_collection(collection_name)\n",
    "\n",
    "\n",
    "# print(f\"Collection '{collection_name}' criada com sucesso!\")"
   ]
  },
  {
   "cell_type": "code",
   "execution_count": 7,
   "metadata": {},
   "outputs": [
    {
     "name": "stdout",
     "output_type": "stream",
     "text": [
      "247 inseridos com sucesso na coleção 'google_api_v0'\n"
     ]
    }
   ],
   "source": [
    "collection_name = 'google_api_v0'\n",
    "collection = db[collection_name]\n",
    "collection.insert_many(bars_dict)\n",
    "\n",
    "print(f\"{len(bars_dict)} inseridos com sucesso na coleção '{collection_name}'\")"
   ]
  }
 ],
 "metadata": {
  "kernelspec": {
   "display_name": "ai-env",
   "language": "python",
   "name": "python3"
  },
  "language_info": {
   "codemirror_mode": {
    "name": "ipython",
    "version": 3
   },
   "file_extension": ".py",
   "mimetype": "text/x-python",
   "name": "python",
   "nbconvert_exporter": "python",
   "pygments_lexer": "ipython3",
   "version": "3.12.4"
  }
 },
 "nbformat": 4,
 "nbformat_minor": 2
}
