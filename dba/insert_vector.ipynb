{
 "cells": [
  {
   "cell_type": "markdown",
   "metadata": {
    "vscode": {
     "languageId": "plaintext"
    }
   },
   "source": [
    "# Data from Mongo to Vector DB"
   ]
  },
  {
   "cell_type": "code",
   "execution_count": 11,
   "metadata": {},
   "outputs": [],
   "source": [
    "from pymongo import MongoClient\n",
    "import pandas as pd\n",
    "import json\n",
    "import os\n",
    "\n",
    "from qdrant_client import QdrantClient\n",
    "from sentence_transformers import SentenceTransformer\n",
    "from qdrant_client.http import models\n",
    "from qdrant_client.models import Distance,VectorParams"
   ]
  },
  {
   "cell_type": "code",
   "execution_count": 13,
   "metadata": {},
   "outputs": [],
   "source": [
    "mongo_url = os.environ.get(\"MONGO_URL\")\n",
    "qdrant_url = os.environ.get(\"QDRANT_CLUSTER_URL\")\n",
    "qdrant_key = os.environ.get(\"QDRANT_API_KEY\")\n",
    "openai_key = os.environ.get(\"OPENAI_API_KEY\")\n",
    "\n",
    "m_client = MongoClient(mongo_url)\n",
    "\n",
    "qdrant_client = QdrantClient(\n",
    "    url=qdrant_url, \n",
    "    api_key=qdrant_key,\n",
    ")"
   ]
  },
  {
   "cell_type": "markdown",
   "metadata": {},
   "source": [
    "Encoder for the vector_db"
   ]
  },
  {
   "cell_type": "code",
   "execution_count": 14,
   "metadata": {},
   "outputs": [],
   "source": [
    "encoder = SentenceTransformer('all-MiniLM-L6-v2')"
   ]
  },
  {
   "cell_type": "markdown",
   "metadata": {},
   "source": [
    "Obtendo dados do Mongo"
   ]
  },
  {
   "cell_type": "code",
   "execution_count": 15,
   "metadata": {},
   "outputs": [],
   "source": [
    "db = m_client['api']\n",
    "collection_m = db['google_v0']"
   ]
  },
  {
   "cell_type": "code",
   "execution_count": 16,
   "metadata": {},
   "outputs": [
    {
     "data": {
      "text/html": [
       "<div>\n",
       "<style scoped>\n",
       "    .dataframe tbody tr th:only-of-type {\n",
       "        vertical-align: middle;\n",
       "    }\n",
       "\n",
       "    .dataframe tbody tr th {\n",
       "        vertical-align: top;\n",
       "    }\n",
       "\n",
       "    .dataframe thead th {\n",
       "        text-align: right;\n",
       "    }\n",
       "</style>\n",
       "<table border=\"1\" class=\"dataframe\">\n",
       "  <thead>\n",
       "    <tr style=\"text-align: right;\">\n",
       "      <th></th>\n",
       "      <th>name</th>\n",
       "      <th>vector_summary</th>\n",
       "      <th>vector_reviews</th>\n",
       "    </tr>\n",
       "  </thead>\n",
       "  <tbody>\n",
       "    <tr>\n",
       "      <th>0</th>\n",
       "      <td>Let's Beer</td>\n",
       "      <td>[0.07094738632440567, -0.02893933653831482, -0...</td>\n",
       "      <td>[0.015329340472817421, 0.06257352977991104, -0...</td>\n",
       "    </tr>\n",
       "    <tr>\n",
       "      <th>1</th>\n",
       "      <td>Barbirô</td>\n",
       "      <td>[0.020421776920557022, -0.03191355988383293, -...</td>\n",
       "      <td>[0.0406663678586483, 0.055937591940164566, -0....</td>\n",
       "    </tr>\n",
       "    <tr>\n",
       "      <th>2</th>\n",
       "      <td>Esquina do Meninão - Cerveja, Drinks e Petiscos</td>\n",
       "      <td>[0, 0, 0, 0, 0, 0, 0, 0, 0, 0, 0, 0, 0, 0, 0, ...</td>\n",
       "      <td>[0.019606823101639748, -0.0064268470741808414,...</td>\n",
       "    </tr>\n",
       "    <tr>\n",
       "      <th>3</th>\n",
       "      <td>Paróquia Bar o Santto Chopp</td>\n",
       "      <td>[0.05131859332323074, -0.02564861997961998, -0...</td>\n",
       "      <td>[0.02331162430346012, 0.01523871161043644, 0.0...</td>\n",
       "    </tr>\n",
       "    <tr>\n",
       "      <th>4</th>\n",
       "      <td>Bar da Vila</td>\n",
       "      <td>[0.0338745042681694, 0.02122640796005726, -0.0...</td>\n",
       "      <td>[0.09387751668691635, 0.0036726687103509903, -...</td>\n",
       "    </tr>\n",
       "  </tbody>\n",
       "</table>\n",
       "</div>"
      ],
      "text/plain": [
       "                                              name  \\\n",
       "0                                       Let's Beer   \n",
       "1                                          Barbirô   \n",
       "2  Esquina do Meninão - Cerveja, Drinks e Petiscos   \n",
       "3                      Paróquia Bar o Santto Chopp   \n",
       "4                                      Bar da Vila   \n",
       "\n",
       "                                      vector_summary  \\\n",
       "0  [0.07094738632440567, -0.02893933653831482, -0...   \n",
       "1  [0.020421776920557022, -0.03191355988383293, -...   \n",
       "2  [0, 0, 0, 0, 0, 0, 0, 0, 0, 0, 0, 0, 0, 0, 0, ...   \n",
       "3  [0.05131859332323074, -0.02564861997961998, -0...   \n",
       "4  [0.0338745042681694, 0.02122640796005726, -0.0...   \n",
       "\n",
       "                                      vector_reviews  \n",
       "0  [0.015329340472817421, 0.06257352977991104, -0...  \n",
       "1  [0.0406663678586483, 0.055937591940164566, -0....  \n",
       "2  [0.019606823101639748, -0.0064268470741808414,...  \n",
       "3  [0.02331162430346012, 0.01523871161043644, 0.0...  \n",
       "4  [0.09387751668691635, 0.0036726687103509903, -...  "
      ]
     },
     "execution_count": 16,
     "metadata": {},
     "output_type": "execute_result"
    }
   ],
   "source": [
    "mon_summ = {}\n",
    "mon_rev = {}\n",
    "\n",
    "for doc in collection_m.find():\n",
    "    #vector dictionary for summary\n",
    "    summary = doc.get('summary','')\n",
    "    \n",
    "    #encoder\n",
    "    try:\n",
    "        vector_s = encoder.encode(summary).tolist()\n",
    "        mon_summ[doc.get('name','')] = vector_s\n",
    "    except:\n",
    "        vector_s = [0] * 384\n",
    "        mon_summ[doc.get('name','')] = vector_s\n",
    "\n",
    "    #dictionary for reviews\n",
    "    reviews_text = (\n",
    "    \" \".join(review.get('text', '') for review in doc.get('reviews', []) if isinstance(doc.get('reviews', []), list))\n",
    "    )\n",
    "    try:\n",
    "        vector_r = encoder.encode(reviews_text).tolist()\n",
    "        mon_rev[doc.get('name','')] = vector_r\n",
    "    except:\n",
    "        vector_r = [0] * 384\n",
    "        mon_rev[doc.get('name','')] = vector_r\n",
    "\n",
    "\n",
    "summ_df = pd.DataFrame(list(mon_summ.items()), columns=['name', 'vector_summary'])\n",
    "rev_df = pd.DataFrame(list(mon_rev.items()), columns=['name', 'vector_reviews'])\n",
    "\n",
    "vect_df = summ_df.merge(rev_df, on='name', how='left')\n",
    "vect_df.head()"
   ]
  },
  {
   "cell_type": "markdown",
   "metadata": {},
   "source": [
    "Inserindo dados do mongo no Qdrant\n",
    "- Aqui serão criadas duas colections distintas para cada tipo de requisição (reviews e summary)"
   ]
  },
  {
   "cell_type": "code",
   "execution_count": 17,
   "metadata": {},
   "outputs": [
    {
     "data": {
      "text/plain": [
       "True"
      ]
     },
     "execution_count": 17,
     "metadata": {},
     "output_type": "execute_result"
    }
   ],
   "source": [
    "qdrant_client.create_collection(\n",
    "    collection_name = 'summary_db'\n",
    "    ,vectors_config=models.VectorParams(\n",
    "        size=encoder.get_sentence_embedding_dimension(),\n",
    "        distance=models.Distance.COSINE\n",
    "    )\n",
    ")\n"
   ]
  },
  {
   "cell_type": "code",
   "execution_count": 18,
   "metadata": {},
   "outputs": [],
   "source": [
    "# collections = ['summary_db','reviews_db']\n",
    "\n",
    "# for c in collections:\n",
    "#     collect = c\n",
    "#     qdrant_client.create_collection(\n",
    "#         collection_name = collect\n",
    "#         ,vectors_config=models.VectorParams(\n",
    "#             size=encoder.get_sentence_embedding_dimension(),\n",
    "#             distance=models.Distance.COSINE\n",
    "#         )\n",
    "#     )"
   ]
  },
  {
   "cell_type": "code",
   "execution_count": 19,
   "metadata": {},
   "outputs": [],
   "source": [
    "# lista de pontos a serem inseridos no vector db\n",
    "\n",
    "points_summ = [\n",
    "    models.PointStruct(\n",
    "        id=idx,\n",
    "        vector=row['vector_summary'],\n",
    "        payload={'name': row['name']}\n",
    "    )\n",
    "    for idx, row in vect_df.iterrows()\n",
    "]\n",
    "\n",
    "# # Create points for the reviews collection\n",
    "# points_review = [\n",
    "#     models.PointStruct(\n",
    "#         id=idx,\n",
    "#         vector=row['vector_reviews'],\n",
    "#         payload={'name': row['name']}\n",
    "#     )\n",
    "#     for idx, row in vect_df.iterrows()\n",
    "# ]"
   ]
  },
  {
   "cell_type": "code",
   "execution_count": 20,
   "metadata": {},
   "outputs": [],
   "source": [
    "# inserção de pontos no vector db\n",
    "\n",
    "qdrant_client.upload_points(\n",
    "    collection_name=\"summary_db\",\n",
    "    points=points_summ\n",
    ")\n",
    "\n",
    "# q_client.upload_points(\n",
    "#     collection_name=\"reviews_db\",\n",
    "#     points=points_review\n",
    "# )"
   ]
  },
  {
   "cell_type": "code",
   "execution_count": 21,
   "metadata": {},
   "outputs": [
    {
     "name": "stdout",
     "output_type": "stream",
     "text": [
      "[ScoredPoint(id=159, version=2, score=0.6450157, payload={'name': 'Bar do Peixe'}, vector=None, shard_key=None), ScoredPoint(id=60, version=0, score=0.6412624, payload={'name': 'Bar Providência'}, vector=None, shard_key=None), ScoredPoint(id=201, version=3, score=0.6412548, payload={'name': 'Praça de Minas Bar e Restaurante II'}, vector=None, shard_key=None), ScoredPoint(id=3, version=0, score=0.630394, payload={'name': 'Paróquia Bar o Santto Chopp'}, vector=None, shard_key=None), ScoredPoint(id=226, version=3, score=0.6283034, payload={'name': 'Botequim Saúde'}, vector=None, shard_key=None), ScoredPoint(id=111, version=1, score=0.5905249, payload={'name': 'Quintal da Casemiro'}, vector=None, shard_key=None), ScoredPoint(id=53, version=0, score=0.5901459, payload={'name': 'Mascarino Pizza-Bar'}, vector=None, shard_key=None), ScoredPoint(id=43, version=0, score=0.5739639, payload={'name': 'Karaoke Bar 5th Avenue'}, vector=None, shard_key=None), ScoredPoint(id=4, version=0, score=0.54753387, payload={'name': 'Bar da Vila'}, vector=None, shard_key=None), ScoredPoint(id=57, version=0, score=0.5353047, payload={'name': 'Olaria Bar Grill Apeninos'}, vector=None, shard_key=None)]\n"
     ]
    }
   ],
   "source": [
    "user_query = \"Busco por um bar de música ao vivo\"\n",
    "query_vector = encoder.encode(user_query).tolist()\n",
    "\n",
    "hits = qdrant_client.search(\n",
    "    collection_name=\"summary_db\",\n",
    "    query_vector=query_vector,\n",
    "    limit=10,\n",
    ")\n",
    "\n",
    "print(hits)"
   ]
  }
 ],
 "metadata": {
  "kernelspec": {
   "display_name": "localwhisper",
   "language": "python",
   "name": "python3"
  },
  "language_info": {
   "codemirror_mode": {
    "name": "ipython",
    "version": 3
   },
   "file_extension": ".py",
   "mimetype": "text/x-python",
   "name": "python",
   "nbconvert_exporter": "python",
   "pygments_lexer": "ipython3",
   "version": "3.10.15"
  }
 },
 "nbformat": 4,
 "nbformat_minor": 2
}
